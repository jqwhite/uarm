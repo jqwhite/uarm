{
 "cells": [
  {
   "cell_type": "code",
   "execution_count": 1,
   "id": "87fbe9b1-50f9-4181-98ed-6e41c8bc7b53",
   "metadata": {
    "execution": {
     "iopub.execute_input": "2022-10-21T13:23:47.364529Z",
     "iopub.status.busy": "2022-10-21T13:23:47.363966Z",
     "iopub.status.idle": "2022-10-21T13:23:47.368298Z",
     "shell.execute_reply": "2022-10-21T13:23:47.367389Z",
     "shell.execute_reply.started": "2022-10-21T13:23:47.364461Z"
    },
    "tags": []
   },
   "outputs": [],
   "source": [
    "# From  https://github.com/jqwhite/uArm-Python-SDK/blob/2.0/setup.py"
   ]
  },
  {
   "cell_type": "code",
   "execution_count": 2,
   "id": "7ae28c0e-07c7-467a-9819-36c0de4384da",
   "metadata": {
    "execution": {
     "iopub.execute_input": "2022-10-21T13:23:48.284459Z",
     "iopub.status.busy": "2022-10-21T13:23:48.284186Z",
     "iopub.status.idle": "2022-10-21T13:23:48.315493Z",
     "shell.execute_reply": "2022-10-21T13:23:48.314749Z",
     "shell.execute_reply.started": "2022-10-21T13:23:48.284432Z"
    },
    "tags": []
   },
   "outputs": [],
   "source": [
    "import time\n",
    "import sys\n",
    "#the uArm application is inside of the parent directory, this assumes that you are runing this notebook in the `uarm/` directory\n",
    "sys.path.append('.')\n",
    "\n",
    "from uarm.wrapper import SwiftAPI\n",
    "from uarm.utils.log import logger\n",
    "# logger.setLevel(logger.VERBOSE)\n",
    "# logger.setLevel(1)"
   ]
  },
  {
   "cell_type": "code",
   "execution_count": 3,
   "id": "5cd170b5-d547-4748-92a9-f566ddfb5d1c",
   "metadata": {
    "execution": {
     "iopub.execute_input": "2022-10-21T13:23:49.118225Z",
     "iopub.status.busy": "2022-10-21T13:23:49.117987Z",
     "iopub.status.idle": "2022-10-21T13:23:49.247280Z",
     "shell.execute_reply": "2022-10-21T13:23:49.246377Z",
     "shell.execute_reply.started": "2022-10-21T13:23:49.118203Z"
    },
    "tags": []
   },
   "outputs": [
    {
     "name": "stdout",
     "output_type": "stream",
     "text": [
      "\u001b[34m\u001b[43m/dev/tty.usbmodem1432201\u001b[m\u001b[m       \u001b[34m\u001b[43m/dev/tty.usbmodem204NTFA4Y4752\u001b[m\u001b[m\n"
     ]
    }
   ],
   "source": [
    "! ls /dev/tty.usbmodem*"
   ]
  },
  {
   "cell_type": "code",
   "execution_count": 4,
   "id": "16b48044-face-4c61-aa19-d9e60a12147e",
   "metadata": {
    "execution": {
     "iopub.execute_input": "2022-10-21T13:23:49.985233Z",
     "iopub.status.busy": "2022-10-21T13:23:49.984891Z",
     "iopub.status.idle": "2022-10-21T13:23:49.992878Z",
     "shell.execute_reply": "2022-10-21T13:23:49.992265Z",
     "shell.execute_reply.started": "2022-10-21T13:23:49.985206Z"
    },
    "tags": []
   },
   "outputs": [],
   "source": [
    "# Note if you are running this you will need to make sure that you run with \"Administrator Permissions\"\n",
    "# swift = SwiftAPI(port=\"COM4\", callback_thread_pool_size=1) #tty.usbmodem1432401\n",
    "\n",
    "swift = SwiftAPI(port=\"/dev/tty.usbmodem1432201\", callback_thread_pool_size=1)"
   ]
  },
  {
   "cell_type": "code",
   "execution_count": 5,
   "id": "bf1764f4-dfc8-469c-90a1-f9239deb7571",
   "metadata": {
    "execution": {
     "iopub.execute_input": "2022-10-21T13:23:50.810191Z",
     "iopub.status.busy": "2022-10-21T13:23:50.809970Z",
     "iopub.status.idle": "2022-10-21T13:24:01.218122Z",
     "shell.execute_reply": "2022-10-21T13:24:01.217394Z",
     "shell.execute_reply.started": "2022-10-21T13:23:50.810171Z"
    },
    "tags": []
   },
   "outputs": [
    {
     "name": "stdout",
     "output_type": "stream",
     "text": [
      "{'device_type': None, 'hardware_version': None, 'firmware_version': '3.2.0', 'api_version': '3.2.0', 'device_unique': '3414B591533D'}\n"
     ]
    }
   ],
   "source": [
    "device_info = swift.get_device_info()\n",
    "print(device_info)"
   ]
  },
  {
   "cell_type": "code",
   "execution_count": 6,
   "id": "28dec2a2-6cba-4466-8e72-d03162a02959",
   "metadata": {
    "execution": {
     "iopub.execute_input": "2022-10-21T13:24:01.220535Z",
     "iopub.status.busy": "2022-10-21T13:24:01.219932Z",
     "iopub.status.idle": "2022-10-21T13:24:02.295249Z",
     "shell.execute_reply": "2022-10-21T13:24:02.294579Z",
     "shell.execute_reply.started": "2022-10-21T13:24:01.220505Z"
    },
    "tags": []
   },
   "outputs": [],
   "source": [
    "swift.reset()"
   ]
  },
  {
   "cell_type": "code",
   "execution_count": 7,
   "id": "c5327c15-0d64-408a-a33a-f5a9f47bf81d",
   "metadata": {
    "execution": {
     "iopub.execute_input": "2022-10-21T13:24:03.397377Z",
     "iopub.status.busy": "2022-10-21T13:24:03.397095Z",
     "iopub.status.idle": "2022-10-21T13:24:03.420060Z",
     "shell.execute_reply": "2022-10-21T13:24:03.419311Z",
     "shell.execute_reply.started": "2022-10-21T13:24:03.397353Z"
    },
    "tags": []
   },
   "outputs": [
    {
     "data": {
      "text/plain": [
       "[200.0, 0.0, 150.0]"
      ]
     },
     "execution_count": 7,
     "metadata": {},
     "output_type": "execute_result"
    }
   ],
   "source": [
    "swift.get_position()"
   ]
  },
  {
   "cell_type": "markdown",
   "id": "4376d962-f950-4087-8951-93cc7c6033f6",
   "metadata": {},
   "source": [
    "## Load tip\n",
    "\n",
    "Assuming a particular spatial arrangement of tips, tubes and plates."
   ]
  },
  {
   "cell_type": "markdown",
   "id": "c95f6a0a-c102-4218-97d7-fd84216312a4",
   "metadata": {},
   "source": [
    "The angle here is in `[x,y,z]`\n",
    "\n",
    "If you were the arm, with the cables connected to your back and looking forward.\n",
    "<!-- * `x` = left and right \n",
    "* `y` = the arm stretched outward or contracted inward\n",
    "* `z` = up and down.  -->\n",
    "* `x` = the arm stretched outward or contracted inward\n",
    "* `y` = left and right \n",
    "* `z` = up and down. "
   ]
  },
  {
   "cell_type": "code",
   "execution_count": 8,
   "id": "f560adf0-a175-45f8-8464-963e8b05b427",
   "metadata": {
    "execution": {
     "iopub.execute_input": "2022-10-21T13:24:05.966471Z",
     "iopub.status.busy": "2022-10-21T13:24:05.966006Z",
     "iopub.status.idle": "2022-10-21T13:24:05.973499Z",
     "shell.execute_reply": "2022-10-21T13:24:05.972737Z",
     "shell.execute_reply.started": "2022-10-21T13:24:05.966441Z"
    },
    "tags": []
   },
   "outputs": [],
   "source": [
    "def load_tip(x, y, z):\n",
    "    \n",
    "    swift.set_position(z=150)\n",
    "    # go to tip position\n",
    "    swift.set_speed_factor(factor=2)\n",
    "    swift.set_position(x=x, \n",
    "                       y=y, \n",
    "                       z=z+80)\n",
    "    \n",
    "    # tap-on tip\n",
    "    swift.set_speed_factor(factor=1)\n",
    "    swift.set_position(z=z-7.5)\n",
    "    time.sleep(0.1)\n",
    "    \n",
    "    swift.set_position(z=z)\n",
    "    time.sleep(0.1)\n",
    "    \n",
    "    swift.set_position(z=z-8.5)\n",
    "    time.sleep(0.1)\n",
    "    \n",
    "    swift.set_position(z=z)\n",
    "    time.sleep(0.1)\n",
    "    \n",
    "    swift.set_position(z=z-9.5)\n",
    "    time.sleep(0.1)\n",
    "    \n",
    "    swift.set_position(z=z)\n",
    "    \n",
    "    # raise tip up\n",
    "    swift.set_position(z=z+80)\n",
    "    time.sleep(1)\n",
    "    \n",
    "    swift.set_speed_factor(factor=2)\n",
    "    swift.set_position(z=150)"
   ]
  },
  {
   "cell_type": "markdown",
   "id": "04191a61-0499-4d96-b091-ee33697328eb",
   "metadata": {
    "tags": []
   },
   "source": [
    "## Get sample from 96-well plate"
   ]
  },
  {
   "cell_type": "code",
   "execution_count": 9,
   "id": "913f7417-599c-47f8-8f0c-a80eab2f69c1",
   "metadata": {
    "execution": {
     "iopub.execute_input": "2022-10-21T13:24:07.105972Z",
     "iopub.status.busy": "2022-10-21T13:24:07.105705Z",
     "iopub.status.idle": "2022-10-21T13:24:07.111455Z",
     "shell.execute_reply": "2022-10-21T13:24:07.110526Z",
     "shell.execute_reply.started": "2022-10-21T13:24:07.105945Z"
    },
    "tags": []
   },
   "outputs": [],
   "source": [
    "def get_sample_from_96well(x,y,z):\n",
    "    \n",
    "    swift.set_position(z=150)\n",
    "    # go to well position\n",
    "    swift.set_speed_factor(factor=2)\n",
    "    swift.set_position(x=x, \n",
    "                       y=y,\n",
    "                       z=150)\n",
    "    \n",
    "    # put tip in well\n",
    "    swift.set_speed_factor(factor=1)\n",
    "    swift.set_position(z=z+35)\n",
    "\n",
    "    time.sleep(6)\n",
    "    time.sleep(6)\n",
    "    \n",
    "    # pull up tip\n",
    "    swift.set_speed_factor(factor=2)\n",
    "    swift.set_position(z=z+80)\n",
    "    time.sleep(1)\n",
    "    swift.set_position(z=150)"
   ]
  },
  {
   "cell_type": "markdown",
   "id": "c11fec69-08dd-42cd-a05d-e73fac880254",
   "metadata": {},
   "source": [
    "## Put sample in tube"
   ]
  },
  {
   "cell_type": "code",
   "execution_count": 10,
   "id": "9d88c257-2e65-4c36-b4d6-6875ef951abd",
   "metadata": {
    "execution": {
     "iopub.execute_input": "2022-10-21T13:24:08.145592Z",
     "iopub.status.busy": "2022-10-21T13:24:08.145335Z",
     "iopub.status.idle": "2022-10-21T13:24:08.151538Z",
     "shell.execute_reply": "2022-10-21T13:24:08.150504Z",
     "shell.execute_reply.started": "2022-10-21T13:24:08.145567Z"
    },
    "tags": []
   },
   "outputs": [],
   "source": [
    "def put_sample_in_tube(x,y,z):\n",
    "    \n",
    "    swift.set_position(z=150)\n",
    "    time.sleep(1)\n",
    "    swift.set_speed_factor(factor=2)\n",
    "    \n",
    "    swift.set_position(x=x, \n",
    "                       y=y, \n",
    "                       z=z+88)\n",
    "    time.sleep(1)\n",
    "    \n",
    "    swift.set_speed_factor(factor=1)\n",
    "    swift.set_position(z=z+10)\n",
    "    time.sleep(6)\n",
    "    \n",
    "    swift.set_position(z=z+88)\n",
    "    time.sleep(1)\n",
    "    \n",
    "    swift.set_speed_factor(factor=2)\n",
    "    swift.set_position(z=150)\n",
    "    "
   ]
  },
  {
   "cell_type": "markdown",
   "id": "24626116-740a-417f-b959-64557d9d1fd1",
   "metadata": {},
   "source": [
    "## Eject tip"
   ]
  },
  {
   "cell_type": "code",
   "execution_count": 11,
   "id": "5889bd28-a0cc-46f8-9d9f-373a13471786",
   "metadata": {
    "execution": {
     "iopub.execute_input": "2022-10-21T13:24:09.265797Z",
     "iopub.status.busy": "2022-10-21T13:24:09.265550Z",
     "iopub.status.idle": "2022-10-21T13:24:09.270180Z",
     "shell.execute_reply": "2022-10-21T13:24:09.269517Z",
     "shell.execute_reply.started": "2022-10-21T13:24:09.265770Z"
    },
    "tags": []
   },
   "outputs": [],
   "source": [
    "def eject_tip():\n",
    "    time.sleep(1)\n",
    "    swift.set_wrist(0)\n",
    "    time.sleep(1)\n",
    "    swift.set_wrist(90)\n",
    "    time.sleep(1)\n",
    "    swift.set_wrist(180)\n",
    "    time.sleep(1)\n",
    "    swift.set_wrist(90)\n",
    "    time.sleep(1)"
   ]
  },
  {
   "cell_type": "code",
   "execution_count": 12,
   "id": "dfac9ef7-086e-4cf4-afb6-c49be2029cec",
   "metadata": {
    "execution": {
     "iopub.execute_input": "2022-10-21T13:24:10.232012Z",
     "iopub.status.busy": "2022-10-21T13:24:10.231785Z",
     "iopub.status.idle": "2022-10-21T13:24:15.255688Z",
     "shell.execute_reply": "2022-10-21T13:24:15.254803Z",
     "shell.execute_reply.started": "2022-10-21T13:24:10.231989Z"
    },
    "tags": []
   },
   "outputs": [],
   "source": [
    "eject_tip()"
   ]
  },
  {
   "cell_type": "markdown",
   "id": "0181ad75-358b-43e0-a211-651f3ea751c1",
   "metadata": {},
   "source": [
    "## Demo all movements"
   ]
  },
  {
   "cell_type": "code",
   "execution_count": 13,
   "id": "5fc41228-61e5-4b4d-aeca-f75821f8dcea",
   "metadata": {
    "execution": {
     "iopub.execute_input": "2022-10-21T13:24:16.105597Z",
     "iopub.status.busy": "2022-10-21T13:24:16.105102Z",
     "iopub.status.idle": "2022-10-21T13:24:16.109091Z",
     "shell.execute_reply": "2022-10-21T13:24:16.108443Z",
     "shell.execute_reply.started": "2022-10-21T13:24:16.105571Z"
    },
    "tags": []
   },
   "outputs": [],
   "source": [
    "swift.set_position(z=150)"
   ]
  },
  {
   "cell_type": "code",
   "execution_count": 14,
   "id": "12ec9655-7e93-44de-8ff0-852f4c8f9b7c",
   "metadata": {
    "execution": {
     "iopub.execute_input": "2022-10-21T13:24:16.827420Z",
     "iopub.status.busy": "2022-10-21T13:24:16.827058Z",
     "iopub.status.idle": "2022-10-21T13:24:17.897273Z",
     "shell.execute_reply": "2022-10-21T13:24:17.896684Z",
     "shell.execute_reply.started": "2022-10-21T13:24:16.827379Z"
    },
    "tags": []
   },
   "outputs": [],
   "source": [
    "swift.reset()"
   ]
  },
  {
   "cell_type": "markdown",
   "id": "42edc349-6ddd-4866-aa65-15c5f691692e",
   "metadata": {},
   "source": [
    "### Calibrate tip position A1"
   ]
  },
  {
   "cell_type": "code",
   "execution_count": 15,
   "id": "fde7cabd-e946-4c1e-b082-290fb205a418",
   "metadata": {
    "execution": {
     "iopub.execute_input": "2022-10-21T13:24:19.007409Z",
     "iopub.status.busy": "2022-10-21T13:24:19.007141Z",
     "iopub.status.idle": "2022-10-21T13:24:19.011093Z",
     "shell.execute_reply": "2022-10-21T13:24:19.010288Z",
     "shell.execute_reply.started": "2022-10-21T13:24:19.007383Z"
    },
    "tags": []
   },
   "outputs": [],
   "source": [
    "swift.set_position(z=150)"
   ]
  },
  {
   "cell_type": "code",
   "execution_count": 16,
   "id": "193cada3-fb2d-4a7a-999c-21809c0d02c7",
   "metadata": {
    "execution": {
     "iopub.execute_input": "2022-10-21T13:24:20.066311Z",
     "iopub.status.busy": "2022-10-21T13:24:20.065941Z",
     "iopub.status.idle": "2022-10-21T13:24:20.071910Z",
     "shell.execute_reply": "2022-10-21T13:24:20.070896Z",
     "shell.execute_reply.started": "2022-10-21T13:24:20.066272Z"
    },
    "tags": []
   },
   "outputs": [],
   "source": [
    "# Calibrate tip position\n",
    "x_tip = 290\n",
    "y_tip = 68\n",
    "z_tip = 150\n",
    "swift.set_position(x=x_tip, \n",
    "                   y=y_tip, \n",
    "                   z=z_tip)"
   ]
  },
  {
   "cell_type": "code",
   "execution_count": 17,
   "id": "a580aa7b-854f-47ae-a9cc-086a37ee2123",
   "metadata": {
    "execution": {
     "iopub.execute_input": "2022-10-21T13:24:25.941757Z",
     "iopub.status.busy": "2022-10-21T13:24:25.941403Z",
     "iopub.status.idle": "2022-10-21T13:24:25.948768Z",
     "shell.execute_reply": "2022-10-21T13:24:25.947089Z",
     "shell.execute_reply.started": "2022-10-21T13:24:25.941724Z"
    },
    "tags": []
   },
   "outputs": [],
   "source": [
    "x_tip = 290\n",
    "y_tip = 66\n",
    "z_tip = 64\n",
    "swift.set_position(x=x_tip, \n",
    "                   y=y_tip, \n",
    "                   z=z_tip)"
   ]
  },
  {
   "cell_type": "code",
   "execution_count": 18,
   "id": "73f19196-e59c-4725-83bb-e5e1228bf318",
   "metadata": {
    "execution": {
     "iopub.execute_input": "2022-10-21T13:24:29.764002Z",
     "iopub.status.busy": "2022-10-21T13:24:29.763697Z",
     "iopub.status.idle": "2022-10-21T13:24:29.768116Z",
     "shell.execute_reply": "2022-10-21T13:24:29.767429Z",
     "shell.execute_reply.started": "2022-10-21T13:24:29.763978Z"
    },
    "tags": []
   },
   "outputs": [],
   "source": [
    "x_tip = 290\n",
    "y_tip = 66\n",
    "z_tip = 62\n",
    "swift.set_position(x=x_tip, \n",
    "                   y=y_tip, \n",
    "                   z=z_tip)"
   ]
  },
  {
   "cell_type": "code",
   "execution_count": 19,
   "id": "4cb4319b-1fd6-4e14-bbbd-b637c9f43933",
   "metadata": {
    "execution": {
     "iopub.execute_input": "2022-10-21T13:24:30.932487Z",
     "iopub.status.busy": "2022-10-21T13:24:30.932246Z",
     "iopub.status.idle": "2022-10-21T13:24:30.936465Z",
     "shell.execute_reply": "2022-10-21T13:24:30.935752Z",
     "shell.execute_reply.started": "2022-10-21T13:24:30.932464Z"
    },
    "tags": []
   },
   "outputs": [],
   "source": [
    "swift.set_position(z=150)"
   ]
  },
  {
   "cell_type": "code",
   "execution_count": 20,
   "id": "fe9c3329-1a43-450b-9f0b-fcf2cb03bc40",
   "metadata": {
    "execution": {
     "iopub.execute_input": "2022-10-21T13:24:34.627021Z",
     "iopub.status.busy": "2022-10-21T13:24:34.626749Z",
     "iopub.status.idle": "2022-10-21T13:24:39.360526Z",
     "shell.execute_reply": "2022-10-21T13:24:39.359657Z",
     "shell.execute_reply.started": "2022-10-21T13:24:34.626993Z"
    },
    "tags": []
   },
   "outputs": [],
   "source": [
    "load_tip(x_tip, y_tip, z_tip)"
   ]
  },
  {
   "cell_type": "markdown",
   "id": "e7f9c62b-199f-4bb4-bdda-292e97bf586f",
   "metadata": {},
   "source": [
    "### Calibrate well position A1"
   ]
  },
  {
   "cell_type": "code",
   "execution_count": 21,
   "id": "ade6fb49-f195-48db-b0bc-e2145d4f15f2",
   "metadata": {
    "execution": {
     "iopub.execute_input": "2022-10-21T13:24:46.299644Z",
     "iopub.status.busy": "2022-10-21T13:24:46.299402Z",
     "iopub.status.idle": "2022-10-21T13:24:46.304366Z",
     "shell.execute_reply": "2022-10-21T13:24:46.303241Z",
     "shell.execute_reply.started": "2022-10-21T13:24:46.299622Z"
    },
    "tags": []
   },
   "outputs": [],
   "source": [
    "swift.set_position(z=150)"
   ]
  },
  {
   "cell_type": "code",
   "execution_count": 22,
   "id": "e55b727f-905b-4380-9760-fa35ffc317a7",
   "metadata": {
    "execution": {
     "iopub.execute_input": "2022-10-21T13:24:46.861954Z",
     "iopub.status.busy": "2022-10-21T13:24:46.861733Z",
     "iopub.status.idle": "2022-10-21T13:24:46.866253Z",
     "shell.execute_reply": "2022-10-21T13:24:46.865128Z",
     "shell.execute_reply.started": "2022-10-21T13:24:46.861933Z"
    },
    "tags": []
   },
   "outputs": [],
   "source": [
    "# Calibrate well position\n",
    "x_well = 171.5 # well x\n",
    "y_well = 68    # well y\n",
    "z_well = 140\n",
    "swift.set_position(x=x_well, \n",
    "                   y=y_well, \n",
    "                   z=z_well)"
   ]
  },
  {
   "cell_type": "code",
   "execution_count": 26,
   "id": "f5e51eb5-56d4-417e-9066-7a67b6f5a9ae",
   "metadata": {
    "execution": {
     "iopub.execute_input": "2022-10-21T13:25:09.691800Z",
     "iopub.status.busy": "2022-10-21T13:25:09.691280Z",
     "iopub.status.idle": "2022-10-21T13:25:09.817637Z",
     "shell.execute_reply": "2022-10-21T13:25:09.816520Z",
     "shell.execute_reply.started": "2022-10-21T13:25:09.691768Z"
    },
    "tags": []
   },
   "outputs": [],
   "source": [
    "x_well = 171.5 # well x\n",
    "y_well = 67    # well y\n",
    "z_well = 18\n",
    "swift.set_position(x=x_well, \n",
    "                   y=y_well, \n",
    "                   z=z_well)"
   ]
  },
  {
   "cell_type": "code",
   "execution_count": 27,
   "id": "301ea735-8ce3-441b-9458-4109b36ee2e5",
   "metadata": {
    "execution": {
     "iopub.execute_input": "2022-10-21T13:25:16.827131Z",
     "iopub.status.busy": "2022-10-21T13:25:16.826806Z",
     "iopub.status.idle": "2022-10-21T13:25:16.831445Z",
     "shell.execute_reply": "2022-10-21T13:25:16.830672Z",
     "shell.execute_reply.started": "2022-10-21T13:25:16.827102Z"
    },
    "tags": []
   },
   "outputs": [],
   "source": [
    "swift.set_position(z=z_well+35)"
   ]
  },
  {
   "cell_type": "code",
   "execution_count": 28,
   "id": "b68e2b7f-25b2-4b13-829d-82327be8fff7",
   "metadata": {
    "execution": {
     "iopub.execute_input": "2022-10-21T13:25:18.367046Z",
     "iopub.status.busy": "2022-10-21T13:25:18.366751Z",
     "iopub.status.idle": "2022-10-21T13:25:33.693300Z",
     "shell.execute_reply": "2022-10-21T13:25:33.692060Z",
     "shell.execute_reply.started": "2022-10-21T13:25:18.367021Z"
    },
    "tags": []
   },
   "outputs": [],
   "source": [
    "get_sample_from_96well(x_well, y_well, z_well)"
   ]
  },
  {
   "cell_type": "code",
   "execution_count": 29,
   "id": "f85e808d-8c8e-4faf-9aa5-07e22f43152c",
   "metadata": {
    "execution": {
     "iopub.execute_input": "2022-10-21T13:25:35.623242Z",
     "iopub.status.busy": "2022-10-21T13:25:35.622998Z",
     "iopub.status.idle": "2022-10-21T13:25:35.627150Z",
     "shell.execute_reply": "2022-10-21T13:25:35.626329Z",
     "shell.execute_reply.started": "2022-10-21T13:25:35.623219Z"
    },
    "tags": []
   },
   "outputs": [],
   "source": [
    "swift.set_position(z=150)"
   ]
  },
  {
   "cell_type": "markdown",
   "id": "798b831b-5fb8-4cd9-87fa-17628df2cc1f",
   "metadata": {},
   "source": [
    "### Calibrate tube position 1"
   ]
  },
  {
   "cell_type": "code",
   "execution_count": 30,
   "id": "92bf7e49-0a72-4356-8b49-68a4afedcc10",
   "metadata": {
    "execution": {
     "iopub.execute_input": "2022-10-21T13:25:38.187718Z",
     "iopub.status.busy": "2022-10-21T13:25:38.187434Z",
     "iopub.status.idle": "2022-10-21T13:25:38.191625Z",
     "shell.execute_reply": "2022-10-21T13:25:38.190939Z",
     "shell.execute_reply.started": "2022-10-21T13:25:38.187691Z"
    },
    "tags": []
   },
   "outputs": [],
   "source": [
    "swift.set_position(z=150)"
   ]
  },
  {
   "cell_type": "code",
   "execution_count": 31,
   "id": "16c35709-e72c-47e0-9e9b-a993eb59619c",
   "metadata": {
    "execution": {
     "iopub.execute_input": "2022-10-21T13:25:51.107142Z",
     "iopub.status.busy": "2022-10-21T13:25:51.106671Z",
     "iopub.status.idle": "2022-10-21T13:25:51.111285Z",
     "shell.execute_reply": "2022-10-21T13:25:51.110468Z",
     "shell.execute_reply.started": "2022-10-21T13:25:51.107118Z"
    },
    "tags": []
   },
   "outputs": [],
   "source": [
    "# Calibrate tube position\n",
    "x_tube = 300    # tube x\n",
    "y_tube = -98    # tube y\n",
    "z_tube = 140\n",
    "swift.set_position(x_tube,y_tube, z_tube)"
   ]
  },
  {
   "cell_type": "code",
   "execution_count": 32,
   "id": "e41b61eb-7fe0-43ed-bcea-b96f2b235a7c",
   "metadata": {
    "execution": {
     "iopub.execute_input": "2022-10-21T13:25:55.714806Z",
     "iopub.status.busy": "2022-10-21T13:25:55.714534Z",
     "iopub.status.idle": "2022-10-21T13:25:55.718955Z",
     "shell.execute_reply": "2022-10-21T13:25:55.718279Z",
     "shell.execute_reply.started": "2022-10-21T13:25:55.714781Z"
    },
    "tags": []
   },
   "outputs": [],
   "source": [
    "# Calibrate well position\n",
    "x_tube = 300 # tube x\n",
    "y_tube = -98    # tube y\n",
    "z_tube = 44\n",
    "swift.set_position(x_tube,y_tube, z_tube)"
   ]
  },
  {
   "cell_type": "code",
   "execution_count": 33,
   "id": "60bc77cc-2d11-4464-89d7-4d164ac20ac2",
   "metadata": {
    "execution": {
     "iopub.execute_input": "2022-10-21T13:25:58.170796Z",
     "iopub.status.busy": "2022-10-21T13:25:58.170563Z",
     "iopub.status.idle": "2022-10-21T13:25:58.174595Z",
     "shell.execute_reply": "2022-10-21T13:25:58.173905Z",
     "shell.execute_reply.started": "2022-10-21T13:25:58.170775Z"
    },
    "tags": []
   },
   "outputs": [],
   "source": [
    "swift.set_position(z=150)"
   ]
  },
  {
   "cell_type": "code",
   "execution_count": 34,
   "id": "b7f0c08b-3b3d-40b9-9707-5029ec748227",
   "metadata": {
    "execution": {
     "iopub.execute_input": "2022-10-21T13:26:00.439996Z",
     "iopub.status.busy": "2022-10-21T13:26:00.439767Z",
     "iopub.status.idle": "2022-10-21T13:26:09.462606Z",
     "shell.execute_reply": "2022-10-21T13:26:09.461953Z",
     "shell.execute_reply.started": "2022-10-21T13:26:00.439975Z"
    },
    "tags": []
   },
   "outputs": [],
   "source": [
    "put_sample_in_tube(x_tube,y_tube, z_tube)"
   ]
  },
  {
   "cell_type": "code",
   "execution_count": 35,
   "id": "20414fd1-108c-4b52-b5ff-3d0756060b21",
   "metadata": {
    "execution": {
     "iopub.execute_input": "2022-10-21T13:26:09.464638Z",
     "iopub.status.busy": "2022-10-21T13:26:09.464334Z",
     "iopub.status.idle": "2022-10-21T13:26:10.577492Z",
     "shell.execute_reply": "2022-10-21T13:26:10.576364Z",
     "shell.execute_reply.started": "2022-10-21T13:26:09.464589Z"
    },
    "tags": []
   },
   "outputs": [],
   "source": [
    "swift.set_position(z=150)"
   ]
  },
  {
   "cell_type": "code",
   "execution_count": 36,
   "id": "13281f48-3e74-4a96-9585-fb691e7010da",
   "metadata": {
    "execution": {
     "iopub.execute_input": "2022-10-21T13:26:11.130020Z",
     "iopub.status.busy": "2022-10-21T13:26:11.129695Z",
     "iopub.status.idle": "2022-10-21T13:26:15.118216Z",
     "shell.execute_reply": "2022-10-21T13:26:15.117526Z",
     "shell.execute_reply.started": "2022-10-21T13:26:11.129994Z"
    },
    "tags": []
   },
   "outputs": [],
   "source": [
    "swift.reset()"
   ]
  },
  {
   "cell_type": "markdown",
   "id": "0aecfa86-8267-4021-9906-623c92484716",
   "metadata": {},
   "source": [
    "### Combine all movements"
   ]
  },
  {
   "cell_type": "code",
   "execution_count": 39,
   "id": "ce2cd71e-73be-40f1-9ead-2493b80dcd97",
   "metadata": {
    "execution": {
     "iopub.execute_input": "2022-10-21T15:26:09.496470Z",
     "iopub.status.busy": "2022-10-21T15:26:09.496109Z",
     "iopub.status.idle": "2022-10-21T15:27:03.290993Z",
     "shell.execute_reply": "2022-10-21T15:27:03.289340Z",
     "shell.execute_reply.started": "2022-10-21T15:26:09.496445Z"
    },
    "tags": []
   },
   "outputs": [],
   "source": [
    "swift.reset()\n",
    "time.sleep(5)\n",
    "\n",
    "load_tip(x_tip, y_tip, z_tip)\n",
    "time.sleep(1)\n",
    "\n",
    "get_sample_from_96well(x_well, y_well, z_well)\n",
    "time.sleep(1)\n",
    "\n",
    "put_sample_in_tube(x_tube,y_tube,z_tube)\n",
    "time.sleep(1)\n",
    "\n",
    "# swift.reset()\n",
    "# time.sleep(1)\n",
    "\n",
    "z = 140\n",
    "swift.set_position(x_tip, y_tip, z)\n",
    "time.sleep(1)\n",
    "\n",
    "z=z_tip+14\n",
    "swift.set_position(z=z_tip)\n",
    "time.sleep(2)\n",
    "\n",
    "eject_tip()\n",
    "time.sleep(1)\n",
    "\n",
    "z = 140\n",
    "swift.set_position(z=z)\n",
    "time.sleep(1)\n",
    "\n",
    "swift.reset()\n",
    "time.sleep(1)"
   ]
  },
  {
   "cell_type": "code",
   "execution_count": 40,
   "id": "5609de54-43f4-4365-8253-923c5f2a6e93",
   "metadata": {
    "execution": {
     "iopub.execute_input": "2022-10-21T15:30:01.172394Z",
     "iopub.status.busy": "2022-10-21T15:30:01.172135Z",
     "iopub.status.idle": "2022-10-21T15:30:01.187028Z",
     "shell.execute_reply": "2022-10-21T15:30:01.186304Z",
     "shell.execute_reply.started": "2022-10-21T15:30:01.172369Z"
    },
    "tags": []
   },
   "outputs": [],
   "source": [
    "# swift.set_speed_factor(factor=2)"
   ]
  },
  {
   "cell_type": "code",
   "execution_count": 41,
   "id": "177af479-1b88-4aec-8aa0-a01ea576a272",
   "metadata": {
    "execution": {
     "iopub.execute_input": "2022-10-21T15:30:02.099613Z",
     "iopub.status.busy": "2022-10-21T15:30:02.099391Z",
     "iopub.status.idle": "2022-10-21T15:30:02.103852Z",
     "shell.execute_reply": "2022-10-21T15:30:02.102878Z",
     "shell.execute_reply.started": "2022-10-21T15:30:02.099590Z"
    },
    "tags": []
   },
   "outputs": [],
   "source": [
    "# swift.reset()"
   ]
  },
  {
   "cell_type": "code",
   "execution_count": 42,
   "id": "97913854-3920-4b1f-af35-8967dd1e169f",
   "metadata": {
    "execution": {
     "iopub.execute_input": "2022-10-21T15:30:06.093419Z",
     "iopub.status.busy": "2022-10-21T15:30:06.093189Z",
     "iopub.status.idle": "2022-10-21T15:30:06.105064Z",
     "shell.execute_reply": "2022-10-21T15:30:06.104390Z",
     "shell.execute_reply.started": "2022-10-21T15:30:06.093395Z"
    },
    "tags": []
   },
   "outputs": [],
   "source": [
    "swift.disconnect()"
   ]
  },
  {
   "cell_type": "code",
   "execution_count": null,
   "id": "4b501eee-81c4-411d-bbc7-7b5d70833ea6",
   "metadata": {},
   "outputs": [],
   "source": []
  }
 ],
 "metadata": {
  "kernelspec": {
   "display_name": "Python 3 (ipykernel)",
   "language": "python",
   "name": "python3"
  },
  "language_info": {
   "codemirror_mode": {
    "name": "ipython",
    "version": 3
   },
   "file_extension": ".py",
   "mimetype": "text/x-python",
   "name": "python",
   "nbconvert_exporter": "python",
   "pygments_lexer": "ipython3",
   "version": "3.9.13"
  }
 },
 "nbformat": 4,
 "nbformat_minor": 5
}
