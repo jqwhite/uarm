{
 "cells": [
  {
   "cell_type": "markdown",
   "metadata": {},
   "source": [
    "# The Basics of moving and controlling. "
   ]
  },
  {
   "cell_type": "code",
   "execution_count": 55,
   "metadata": {
    "execution": {
     "iopub.execute_input": "2022-09-26T15:32:26.568958Z",
     "iopub.status.busy": "2022-09-26T15:32:26.568698Z",
     "iopub.status.idle": "2022-09-26T15:32:26.577133Z",
     "shell.execute_reply": "2022-09-26T15:32:26.576079Z",
     "shell.execute_reply.started": "2022-09-26T15:32:26.568935Z"
    },
    "tags": []
   },
   "outputs": [],
   "source": [
    "import sys\n",
    "#the uArm application is inside of the directory \n",
    "# sys.path.append('..')\n",
    "sys.path.append('.')\n",
    "from uarm.wrapper import SwiftAPI\n",
    "\n",
    "\n",
    "# swift = SwiftAPI(port=\"COM4\", callback_thread_pool_size=1)\n",
    "swift = SwiftAPI(port=\"/dev/tty.usbmodem1432401\", callback_thread_pool_size=1)"
   ]
  },
  {
   "cell_type": "markdown",
   "metadata": {},
   "source": [
    "## Set the arm back to the center. "
   ]
  },
  {
   "cell_type": "code",
   "execution_count": 56,
   "metadata": {
    "execution": {
     "iopub.execute_input": "2022-09-26T15:32:31.038751Z",
     "iopub.status.busy": "2022-09-26T15:32:31.038526Z",
     "iopub.status.idle": "2022-09-26T15:32:32.103680Z",
     "shell.execute_reply": "2022-09-26T15:32:32.102858Z",
     "shell.execute_reply.started": "2022-09-26T15:32:31.038728Z"
    },
    "tags": []
   },
   "outputs": [],
   "source": [
    "swift.reset()"
   ]
  },
  {
   "cell_type": "markdown",
   "metadata": {},
   "source": [
    "## First, where is the arm right now?\n"
   ]
  },
  {
   "cell_type": "code",
   "execution_count": 57,
   "metadata": {
    "execution": {
     "iopub.execute_input": "2022-09-26T15:32:33.634837Z",
     "iopub.status.busy": "2022-09-26T15:32:33.634633Z",
     "iopub.status.idle": "2022-09-26T15:32:33.646198Z",
     "shell.execute_reply": "2022-09-26T15:32:33.645631Z",
     "shell.execute_reply.started": "2022-09-26T15:32:33.634817Z"
    },
    "tags": []
   },
   "outputs": [
    {
     "data": {
      "text/plain": [
       "[200.0, 0.0, 150.0]"
      ]
     },
     "execution_count": 57,
     "metadata": {},
     "output_type": "execute_result"
    }
   ],
   "source": [
    "swift.get_position()"
   ]
  },
  {
   "cell_type": "markdown",
   "metadata": {},
   "source": [
    "The angle here is in `[x,y,z]`\n",
    "\n",
    "If you were the arm, with the cables connected to your back and looking forward.\n",
    "<!-- * `x` = left and right \n",
    "* `y` = the arm stretched outward or contracted inward\n",
    "* `z` = up and down.  -->\n",
    "* `x` = the arm stretched outward or contracted inward\n",
    "* `y` = left and right \n",
    "* `z` = up and down. "
   ]
  },
  {
   "cell_type": "code",
   "execution_count": 58,
   "metadata": {
    "execution": {
     "iopub.execute_input": "2022-09-26T15:32:34.953404Z",
     "iopub.status.busy": "2022-09-26T15:32:34.953171Z",
     "iopub.status.idle": "2022-09-26T15:32:34.957650Z",
     "shell.execute_reply": "2022-09-26T15:32:34.956801Z",
     "shell.execute_reply.started": "2022-09-26T15:32:34.953375Z"
    },
    "tags": []
   },
   "outputs": [],
   "source": [
    "swift.set_position(x=100, y=90, z=50)"
   ]
  },
  {
   "cell_type": "code",
   "execution_count": 59,
   "metadata": {
    "execution": {
     "iopub.execute_input": "2022-09-26T15:32:40.464212Z",
     "iopub.status.busy": "2022-09-26T15:32:40.464007Z",
     "iopub.status.idle": "2022-09-26T15:32:40.473611Z",
     "shell.execute_reply": "2022-09-26T15:32:40.472936Z",
     "shell.execute_reply.started": "2022-09-26T15:32:40.464191Z"
    },
    "tags": []
   },
   "outputs": [
    {
     "data": {
      "text/plain": [
       "[100.0, 90.0, 50.0]"
      ]
     },
     "execution_count": 59,
     "metadata": {},
     "output_type": "execute_result"
    }
   ],
   "source": [
    "swift.get_position()"
   ]
  },
  {
   "cell_type": "code",
   "execution_count": 60,
   "metadata": {
    "execution": {
     "iopub.execute_input": "2022-09-26T15:32:41.737342Z",
     "iopub.status.busy": "2022-09-26T15:32:41.737103Z",
     "iopub.status.idle": "2022-09-26T15:32:41.741109Z",
     "shell.execute_reply": "2022-09-26T15:32:41.740347Z",
     "shell.execute_reply.started": "2022-09-26T15:32:41.737319Z"
    },
    "tags": []
   },
   "outputs": [],
   "source": [
    "swift.set_position(x=200, y=0, z=100)"
   ]
  },
  {
   "cell_type": "code",
   "execution_count": 61,
   "metadata": {
    "execution": {
     "iopub.execute_input": "2022-09-26T15:32:42.871432Z",
     "iopub.status.busy": "2022-09-26T15:32:42.871096Z",
     "iopub.status.idle": "2022-09-26T15:32:44.881097Z",
     "shell.execute_reply": "2022-09-26T15:32:44.880440Z",
     "shell.execute_reply.started": "2022-09-26T15:32:42.871385Z"
    },
    "tags": []
   },
   "outputs": [
    {
     "data": {
      "text/plain": [
       "'TIMEOUT'"
      ]
     },
     "execution_count": 61,
     "metadata": {},
     "output_type": "execute_result"
    }
   ],
   "source": [
    "swift.get_position()"
   ]
  },
  {
   "cell_type": "markdown",
   "metadata": {},
   "source": [
    "# Moving individual components\n",
    "\n",
    "## by ANGLE\n",
    "\n",
    "servo_id：\n",
    "* 0: BOTTOM - \"Rotates the arm on the base\"\n",
    "* 1: LEFT - \"Stretches the arm outward\"\n",
    "* 2: RIGHT - \n",
    "* 3: HAND - \"Gripper wrist\"\n",
    "\n",
    "Note that 3(wrist) does not print out in the `get_servo_angle` \n",
    "\n",
    "when setting any angle, remember the following: \n",
    "* 0 is the far left. \n",
    "* 90 in center\n",
    "* 180 is far right\n",
    "\n",
    "However you have to think about the position of the servo, not the position of the arm. For example on the bottom (base) servo, going from 90 degrees to zero moves servo counter clockwise. However you are facing the other way so the servo turns clockwise and the arm moves to the right. "
   ]
  },
  {
   "cell_type": "code",
   "execution_count": 8,
   "metadata": {
    "execution": {
     "iopub.execute_input": "2022-09-26T15:26:43.225649Z",
     "iopub.status.busy": "2022-09-26T15:26:43.225407Z",
     "iopub.status.idle": "2022-09-26T15:26:43.229600Z",
     "shell.execute_reply": "2022-09-26T15:26:43.228894Z",
     "shell.execute_reply.started": "2022-09-26T15:26:43.225626Z"
    },
    "tags": []
   },
   "outputs": [],
   "source": [
    "swift.set_servo_angle(0,90)"
   ]
  },
  {
   "cell_type": "code",
   "execution_count": 9,
   "metadata": {
    "execution": {
     "iopub.execute_input": "2022-09-26T15:26:43.990744Z",
     "iopub.status.busy": "2022-09-26T15:26:43.990289Z",
     "iopub.status.idle": "2022-09-26T15:26:43.995002Z",
     "shell.execute_reply": "2022-09-26T15:26:43.994251Z",
     "shell.execute_reply.started": "2022-09-26T15:26:43.990716Z"
    },
    "tags": []
   },
   "outputs": [],
   "source": [
    "swift.set_servo_angle(0,0)"
   ]
  },
  {
   "cell_type": "code",
   "execution_count": 10,
   "metadata": {
    "execution": {
     "iopub.execute_input": "2022-09-26T15:26:47.119420Z",
     "iopub.status.busy": "2022-09-26T15:26:47.118937Z",
     "iopub.status.idle": "2022-09-26T15:26:47.123427Z",
     "shell.execute_reply": "2022-09-26T15:26:47.122493Z",
     "shell.execute_reply.started": "2022-09-26T15:26:47.119394Z"
    },
    "tags": []
   },
   "outputs": [],
   "source": [
    "swift.set_servo_angle(0,180)"
   ]
  },
  {
   "cell_type": "code",
   "execution_count": 11,
   "metadata": {
    "execution": {
     "iopub.execute_input": "2022-09-26T15:26:53.068085Z",
     "iopub.status.busy": "2022-09-26T15:26:53.067426Z",
     "iopub.status.idle": "2022-09-26T15:26:53.072405Z",
     "shell.execute_reply": "2022-09-26T15:26:53.071568Z",
     "shell.execute_reply.started": "2022-09-26T15:26:53.068051Z"
    },
    "tags": []
   },
   "outputs": [],
   "source": [
    "swift.set_servo_angle(0,90)"
   ]
  },
  {
   "cell_type": "code",
   "execution_count": 12,
   "metadata": {
    "execution": {
     "iopub.execute_input": "2022-09-26T15:26:56.365686Z",
     "iopub.status.busy": "2022-09-26T15:26:56.365435Z",
     "iopub.status.idle": "2022-09-26T15:26:56.369612Z",
     "shell.execute_reply": "2022-09-26T15:26:56.368881Z",
     "shell.execute_reply.started": "2022-09-26T15:26:56.365660Z"
    },
    "tags": []
   },
   "outputs": [],
   "source": [
    "swift.set_servo_angle(1,90)"
   ]
  },
  {
   "cell_type": "code",
   "execution_count": 13,
   "metadata": {
    "execution": {
     "iopub.execute_input": "2022-09-26T15:26:57.557238Z",
     "iopub.status.busy": "2022-09-26T15:26:57.556824Z",
     "iopub.status.idle": "2022-09-26T15:26:57.563137Z",
     "shell.execute_reply": "2022-09-26T15:26:57.562225Z",
     "shell.execute_reply.started": "2022-09-26T15:26:57.557196Z"
    },
    "tags": []
   },
   "outputs": [],
   "source": [
    "swift.set_servo_angle(1,20)"
   ]
  },
  {
   "cell_type": "code",
   "execution_count": 14,
   "metadata": {
    "execution": {
     "iopub.execute_input": "2022-09-26T15:27:00.685191Z",
     "iopub.status.busy": "2022-09-26T15:27:00.684915Z",
     "iopub.status.idle": "2022-09-26T15:27:00.690676Z",
     "shell.execute_reply": "2022-09-26T15:27:00.688861Z",
     "shell.execute_reply.started": "2022-09-26T15:27:00.685165Z"
    },
    "tags": []
   },
   "outputs": [],
   "source": [
    "swift.set_servo_angle(1,120)"
   ]
  },
  {
   "cell_type": "code",
   "execution_count": 15,
   "metadata": {
    "execution": {
     "iopub.execute_input": "2022-09-26T15:27:06.058124Z",
     "iopub.status.busy": "2022-09-26T15:27:06.057791Z",
     "iopub.status.idle": "2022-09-26T15:27:06.064608Z",
     "shell.execute_reply": "2022-09-26T15:27:06.063745Z",
     "shell.execute_reply.started": "2022-09-26T15:27:06.058096Z"
    },
    "tags": []
   },
   "outputs": [],
   "source": [
    "swift.set_servo_angle(1,90)"
   ]
  },
  {
   "cell_type": "code",
   "execution_count": 16,
   "metadata": {
    "execution": {
     "iopub.execute_input": "2022-09-26T15:27:10.316677Z",
     "iopub.status.busy": "2022-09-26T15:27:10.316427Z",
     "iopub.status.idle": "2022-09-26T15:27:10.320712Z",
     "shell.execute_reply": "2022-09-26T15:27:10.320067Z",
     "shell.execute_reply.started": "2022-09-26T15:27:10.316653Z"
    },
    "tags": []
   },
   "outputs": [],
   "source": [
    "swift.set_servo_angle(2,0)"
   ]
  },
  {
   "cell_type": "code",
   "execution_count": 20,
   "metadata": {
    "execution": {
     "iopub.execute_input": "2022-09-26T15:27:36.052638Z",
     "iopub.status.busy": "2022-09-26T15:27:36.052299Z",
     "iopub.status.idle": "2022-09-26T15:27:36.057433Z",
     "shell.execute_reply": "2022-09-26T15:27:36.056084Z",
     "shell.execute_reply.started": "2022-09-26T15:27:36.052613Z"
    },
    "tags": []
   },
   "outputs": [],
   "source": [
    "swift.set_servo_angle(2,40)"
   ]
  },
  {
   "cell_type": "code",
   "execution_count": 29,
   "metadata": {
    "execution": {
     "iopub.execute_input": "2022-09-26T15:28:28.441723Z",
     "iopub.status.busy": "2022-09-26T15:28:28.441455Z",
     "iopub.status.idle": "2022-09-26T15:28:28.445720Z",
     "shell.execute_reply": "2022-09-26T15:28:28.444885Z",
     "shell.execute_reply.started": "2022-09-26T15:28:28.441698Z"
    },
    "tags": []
   },
   "outputs": [],
   "source": [
    "swift.set_servo_angle(3,120)"
   ]
  },
  {
   "cell_type": "code",
   "execution_count": 30,
   "metadata": {
    "execution": {
     "iopub.execute_input": "2022-09-26T15:28:36.407981Z",
     "iopub.status.busy": "2022-09-26T15:28:36.407706Z",
     "iopub.status.idle": "2022-09-26T15:28:36.412077Z",
     "shell.execute_reply": "2022-09-26T15:28:36.411309Z",
     "shell.execute_reply.started": "2022-09-26T15:28:36.407955Z"
    },
    "tags": []
   },
   "outputs": [],
   "source": [
    "swift.set_servo_angle(3,90)"
   ]
  },
  {
   "cell_type": "code",
   "execution_count": 31,
   "metadata": {
    "execution": {
     "iopub.execute_input": "2022-09-26T15:28:38.431562Z",
     "iopub.status.busy": "2022-09-26T15:28:38.431288Z",
     "iopub.status.idle": "2022-09-26T15:28:38.472071Z",
     "shell.execute_reply": "2022-09-26T15:28:38.471279Z",
     "shell.execute_reply.started": "2022-09-26T15:28:38.431536Z"
    },
    "tags": []
   },
   "outputs": [
    {
     "data": {
      "text/plain": [
       "[90.18, 89.92, 39.66]"
      ]
     },
     "execution_count": 31,
     "metadata": {},
     "output_type": "execute_result"
    }
   ],
   "source": [
    "swift.get_servo_angle()"
   ]
  },
  {
   "cell_type": "code",
   "execution_count": 33,
   "metadata": {
    "execution": {
     "iopub.execute_input": "2022-09-26T15:28:42.197607Z",
     "iopub.status.busy": "2022-09-26T15:28:42.197365Z",
     "iopub.status.idle": "2022-09-26T15:28:42.235351Z",
     "shell.execute_reply": "2022-09-26T15:28:42.234664Z",
     "shell.execute_reply.started": "2022-09-26T15:28:42.197584Z"
    },
    "tags": []
   },
   "outputs": [
    {
     "data": {
      "text/plain": [
       "89.92"
      ]
     },
     "execution_count": 33,
     "metadata": {},
     "output_type": "execute_result"
    }
   ],
   "source": [
    "swift.get_servo_angle(servo_id=1)"
   ]
  },
  {
   "cell_type": "code",
   "execution_count": 34,
   "metadata": {
    "execution": {
     "iopub.execute_input": "2022-09-26T15:28:50.860452Z",
     "iopub.status.busy": "2022-09-26T15:28:50.860185Z",
     "iopub.status.idle": "2022-09-26T15:28:54.375878Z",
     "shell.execute_reply": "2022-09-26T15:28:54.374399Z",
     "shell.execute_reply.started": "2022-09-26T15:28:50.860426Z"
    }
   },
   "outputs": [],
   "source": [
    "swift.reset()"
   ]
  },
  {
   "cell_type": "markdown",
   "metadata": {},
   "source": [
    "## by POSITION"
   ]
  },
  {
   "cell_type": "markdown",
   "metadata": {},
   "source": [
    "Parameter：\n",
    "* x：X axis value, default value: None, use the X value of last movement or initial value 150.\n",
    "* y：Y axis value, default value: None, use the Y value of last movement or initial value 0.\n",
    "* z：Z axis value, default value: None, use the Z value of last movement or initial value 150.\n",
    "* speed：speed value, default value: None, use the speed value of last movement for default speed 1000.\n",
    "* relative：is/isn’t relative movement, default value: False\n",
    "* wait：do/don’t wait for return, default value: False\n"
   ]
  },
  {
   "cell_type": "code",
   "execution_count": 43,
   "metadata": {
    "execution": {
     "iopub.execute_input": "2022-09-26T15:31:19.657009Z",
     "iopub.status.busy": "2022-09-26T15:31:19.656532Z",
     "iopub.status.idle": "2022-09-26T15:31:19.660854Z",
     "shell.execute_reply": "2022-09-26T15:31:19.660071Z",
     "shell.execute_reply.started": "2022-09-26T15:31:19.656984Z"
    },
    "tags": []
   },
   "outputs": [],
   "source": [
    "swift.set_position(x=900, y=100, z=60, wait=False)"
   ]
  },
  {
   "cell_type": "code",
   "execution_count": 44,
   "metadata": {
    "execution": {
     "iopub.execute_input": "2022-09-26T15:31:26.890408Z",
     "iopub.status.busy": "2022-09-26T15:31:26.889724Z",
     "iopub.status.idle": "2022-09-26T15:31:32.916227Z",
     "shell.execute_reply": "2022-09-26T15:31:32.915075Z",
     "shell.execute_reply.started": "2022-09-26T15:31:26.890379Z"
    },
    "tags": []
   },
   "outputs": [],
   "source": [
    "swift.reset()"
   ]
  },
  {
   "cell_type": "markdown",
   "metadata": {},
   "source": [
    "### 4th motor (the wrist arm of the grabber)\n",
    "\n",
    "* **Angle** A value between 0 and 180. 0 = far left, 180 = far right, 90 = center"
   ]
  },
  {
   "cell_type": "code",
   "execution_count": 45,
   "metadata": {
    "execution": {
     "iopub.execute_input": "2022-09-26T15:31:35.930718Z",
     "iopub.status.busy": "2022-09-26T15:31:35.930458Z",
     "iopub.status.idle": "2022-09-26T15:31:35.934607Z",
     "shell.execute_reply": "2022-09-26T15:31:35.933699Z",
     "shell.execute_reply.started": "2022-09-26T15:31:35.930692Z"
    }
   },
   "outputs": [],
   "source": [
    "swift.set_wrist(10)"
   ]
  },
  {
   "cell_type": "markdown",
   "metadata": {},
   "source": [
    "### the gripper (if attached)\n",
    "\n",
    "`True` = closes the gripper\n",
    "`False` = opens the gripper"
   ]
  },
  {
   "cell_type": "code",
   "execution_count": 47,
   "metadata": {
    "execution": {
     "iopub.execute_input": "2022-09-26T15:31:47.374675Z",
     "iopub.status.busy": "2022-09-26T15:31:47.374455Z",
     "iopub.status.idle": "2022-09-26T15:31:47.385961Z",
     "shell.execute_reply": "2022-09-26T15:31:47.385327Z",
     "shell.execute_reply.started": "2022-09-26T15:31:47.374652Z"
    },
    "tags": []
   },
   "outputs": [
    {
     "data": {
      "text/plain": [
       "'OK'"
      ]
     },
     "execution_count": 47,
     "metadata": {},
     "output_type": "execute_result"
    }
   ],
   "source": [
    "swift.set_gripper(True)"
   ]
  },
  {
   "cell_type": "code",
   "execution_count": 48,
   "metadata": {
    "execution": {
     "iopub.execute_input": "2022-09-26T15:31:55.203498Z",
     "iopub.status.busy": "2022-09-26T15:31:55.203291Z",
     "iopub.status.idle": "2022-09-26T15:31:55.214907Z",
     "shell.execute_reply": "2022-09-26T15:31:55.214283Z",
     "shell.execute_reply.started": "2022-09-26T15:31:55.203478Z"
    }
   },
   "outputs": [
    {
     "data": {
      "text/plain": [
       "'OK'"
      ]
     },
     "execution_count": 48,
     "metadata": {},
     "output_type": "execute_result"
    }
   ],
   "source": [
    "swift.set_gripper(False)"
   ]
  },
  {
   "cell_type": "markdown",
   "metadata": {},
   "source": [
    "##  QA\n"
   ]
  },
  {
   "cell_type": "code",
   "execution_count": 49,
   "metadata": {
    "execution": {
     "iopub.execute_input": "2022-09-26T15:31:59.524663Z",
     "iopub.status.busy": "2022-09-26T15:31:59.524427Z",
     "iopub.status.idle": "2022-09-26T15:31:59.531541Z",
     "shell.execute_reply": "2022-09-26T15:31:59.530479Z",
     "shell.execute_reply.started": "2022-09-26T15:31:59.524645Z"
    }
   },
   "outputs": [
    {
     "data": {
      "text/plain": [
       "{'current_temperature': 0.0, 'target_temperature': 0.0}"
      ]
     },
     "execution_count": 49,
     "metadata": {},
     "output_type": "execute_result"
    }
   ],
   "source": [
    "swift.get_temperature()"
   ]
  },
  {
   "cell_type": "code",
   "execution_count": 50,
   "metadata": {
    "execution": {
     "iopub.execute_input": "2022-09-26T15:32:01.546378Z",
     "iopub.status.busy": "2022-09-26T15:32:01.546145Z",
     "iopub.status.idle": "2022-09-26T15:32:01.559646Z",
     "shell.execute_reply": "2022-09-26T15:32:01.559078Z",
     "shell.execute_reply.started": "2022-09-26T15:32:01.546357Z"
    }
   },
   "outputs": [
    {
     "data": {
      "text/plain": [
       "True"
      ]
     },
     "execution_count": 50,
     "metadata": {},
     "output_type": "execute_result"
    }
   ],
   "source": [
    "swift.get_power_status()"
   ]
  },
  {
   "cell_type": "code",
   "execution_count": 51,
   "metadata": {
    "execution": {
     "iopub.execute_input": "2022-09-26T15:32:03.210588Z",
     "iopub.status.busy": "2022-09-26T15:32:03.210098Z",
     "iopub.status.idle": "2022-09-26T15:32:03.228792Z",
     "shell.execute_reply": "2022-09-26T15:32:03.228210Z",
     "shell.execute_reply.started": "2022-09-26T15:32:03.210560Z"
    }
   },
   "outputs": [
    {
     "data": {
      "text/plain": [
       "{'device_type': 'SwiftPro',\n",
       " 'hardware_version': '3.3.1',\n",
       " 'firmware_version': '3.2.0',\n",
       " 'api_version': '3.2.0',\n",
       " 'device_unique': '3414B591533D'}"
      ]
     },
     "execution_count": 51,
     "metadata": {},
     "output_type": "execute_result"
    }
   ],
   "source": [
    "swift.get_device_info()"
   ]
  },
  {
   "cell_type": "code",
   "execution_count": 52,
   "metadata": {
    "execution": {
     "iopub.execute_input": "2022-09-26T15:32:05.696719Z",
     "iopub.status.busy": "2022-09-26T15:32:05.696455Z",
     "iopub.status.idle": "2022-09-26T15:32:05.708989Z",
     "shell.execute_reply": "2022-09-26T15:32:05.708205Z",
     "shell.execute_reply.started": "2022-09-26T15:32:05.696692Z"
    }
   },
   "outputs": [
    {
     "data": {
      "text/plain": [
       "0"
      ]
     },
     "execution_count": 52,
     "metadata": {},
     "output_type": "execute_result"
    }
   ],
   "source": [
    "swift.get_mode()"
   ]
  },
  {
   "cell_type": "code",
   "execution_count": 53,
   "metadata": {
    "execution": {
     "iopub.execute_input": "2022-09-26T15:32:06.889748Z",
     "iopub.status.busy": "2022-09-26T15:32:06.889474Z",
     "iopub.status.idle": "2022-09-26T15:32:06.898944Z",
     "shell.execute_reply": "2022-09-26T15:32:06.898387Z",
     "shell.execute_reply.started": "2022-09-26T15:32:06.889720Z"
    }
   },
   "outputs": [
    {
     "data": {
      "text/plain": [
       "True"
      ]
     },
     "execution_count": 53,
     "metadata": {},
     "output_type": "execute_result"
    }
   ],
   "source": [
    "swift.get_servo_attach()"
   ]
  },
  {
   "cell_type": "markdown",
   "metadata": {},
   "source": [
    "## Cleanup: disconnect"
   ]
  },
  {
   "cell_type": "code",
   "execution_count": 62,
   "metadata": {
    "execution": {
     "iopub.execute_input": "2022-09-26T15:42:00.632756Z",
     "iopub.status.busy": "2022-09-26T15:42:00.632492Z",
     "iopub.status.idle": "2022-09-26T15:42:00.647129Z",
     "shell.execute_reply": "2022-09-26T15:42:00.646374Z",
     "shell.execute_reply.started": "2022-09-26T15:42:00.632730Z"
    },
    "tags": []
   },
   "outputs": [],
   "source": [
    "swift.disconnect()"
   ]
  },
  {
   "cell_type": "code",
   "execution_count": null,
   "metadata": {},
   "outputs": [],
   "source": []
  }
 ],
 "metadata": {
  "kernelspec": {
   "display_name": "Python 3 (ipykernel)",
   "language": "python",
   "name": "python3"
  },
  "language_info": {
   "codemirror_mode": {
    "name": "ipython",
    "version": 3
   },
   "file_extension": ".py",
   "mimetype": "text/x-python",
   "name": "python",
   "nbconvert_exporter": "python",
   "pygments_lexer": "ipython3",
   "version": "3.9.13"
  }
 },
 "nbformat": 4,
 "nbformat_minor": 4
}
