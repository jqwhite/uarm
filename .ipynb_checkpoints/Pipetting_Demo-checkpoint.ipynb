{
 "cells": [
  {
   "cell_type": "code",
   "execution_count": 1,
   "id": "87fbe9b1-50f9-4181-98ed-6e41c8bc7b53",
   "metadata": {
    "execution": {
     "iopub.execute_input": "2022-10-21T11:57:43.812277Z",
     "iopub.status.busy": "2022-10-21T11:57:43.811942Z",
     "iopub.status.idle": "2022-10-21T11:57:43.816709Z",
     "shell.execute_reply": "2022-10-21T11:57:43.815712Z",
     "shell.execute_reply.started": "2022-10-21T11:57:43.812207Z"
    },
    "tags": []
   },
   "outputs": [],
   "source": [
    "# From  https://github.com/jqwhite/uArm-Python-SDK/blob/2.0/setup.py"
   ]
  },
  {
   "cell_type": "code",
   "execution_count": 2,
   "id": "7ae28c0e-07c7-467a-9819-36c0de4384da",
   "metadata": {
    "execution": {
     "iopub.execute_input": "2022-10-21T11:57:44.460489Z",
     "iopub.status.busy": "2022-10-21T11:57:44.460213Z",
     "iopub.status.idle": "2022-10-21T11:57:44.496469Z",
     "shell.execute_reply": "2022-10-21T11:57:44.495572Z",
     "shell.execute_reply.started": "2022-10-21T11:57:44.460462Z"
    },
    "tags": []
   },
   "outputs": [],
   "source": [
    "import time\n",
    "import sys\n",
    "#the uArm application is inside of the parent directory, this assumes that you are runing this notebook in the `uarm/` directory\n",
    "sys.path.append('.')\n",
    "\n",
    "from uarm.wrapper import SwiftAPI\n",
    "from uarm.utils.log import logger\n",
    "# logger.setLevel(logger.VERBOSE)\n",
    "# logger.setLevel(1)"
   ]
  },
  {
   "cell_type": "code",
   "execution_count": 3,
   "id": "5cd170b5-d547-4748-92a9-f566ddfb5d1c",
   "metadata": {
    "execution": {
     "iopub.execute_input": "2022-10-21T11:57:45.226079Z",
     "iopub.status.busy": "2022-10-21T11:57:45.225557Z",
     "iopub.status.idle": "2022-10-21T11:57:45.356590Z",
     "shell.execute_reply": "2022-10-21T11:57:45.355655Z",
     "shell.execute_reply.started": "2022-10-21T11:57:45.226053Z"
    },
    "tags": []
   },
   "outputs": [
    {
     "name": "stdout",
     "output_type": "stream",
     "text": [
      "\u001b[34m\u001b[43m/dev/tty.usbmodem1432201\u001b[m\u001b[m       \u001b[34m\u001b[43m/dev/tty.usbmodem204NTFA4Y4752\u001b[m\u001b[m\n"
     ]
    }
   ],
   "source": [
    "! ls /dev/tty.usbmodem*"
   ]
  },
  {
   "cell_type": "code",
   "execution_count": 4,
   "id": "16b48044-face-4c61-aa19-d9e60a12147e",
   "metadata": {
    "execution": {
     "iopub.execute_input": "2022-10-21T11:57:46.151226Z",
     "iopub.status.busy": "2022-10-21T11:57:46.150916Z",
     "iopub.status.idle": "2022-10-21T11:57:46.159353Z",
     "shell.execute_reply": "2022-10-21T11:57:46.158608Z",
     "shell.execute_reply.started": "2022-10-21T11:57:46.151196Z"
    },
    "tags": []
   },
   "outputs": [],
   "source": [
    "# Note if you are running this you will need to make sure that you run with \"Administrator Permissions\"\n",
    "# swift = SwiftAPI(port=\"COM4\", callback_thread_pool_size=1) #tty.usbmodem1432401\n",
    "\n",
    "swift = SwiftAPI(port=\"/dev/tty.usbmodem1432201\", callback_thread_pool_size=1)"
   ]
  },
  {
   "cell_type": "code",
   "execution_count": 5,
   "id": "bf1764f4-dfc8-469c-90a1-f9239deb7571",
   "metadata": {
    "execution": {
     "iopub.execute_input": "2022-10-21T11:57:47.184470Z",
     "iopub.status.busy": "2022-10-21T11:57:47.184214Z",
     "iopub.status.idle": "2022-10-21T11:57:48.464653Z",
     "shell.execute_reply": "2022-10-21T11:57:48.464066Z",
     "shell.execute_reply.started": "2022-10-21T11:57:47.184446Z"
    },
    "tags": []
   },
   "outputs": [
    {
     "name": "stdout",
     "output_type": "stream",
     "text": [
      "{'device_type': 'SwiftPro', 'hardware_version': '3.3.1', 'firmware_version': '3.2.0', 'api_version': '3.2.0', 'device_unique': '3414B591533D'}\n"
     ]
    }
   ],
   "source": [
    "device_info = swift.get_device_info()\n",
    "print(device_info)"
   ]
  },
  {
   "cell_type": "code",
   "execution_count": 6,
   "id": "28dec2a2-6cba-4466-8e72-d03162a02959",
   "metadata": {
    "execution": {
     "iopub.execute_input": "2022-10-21T11:57:48.512792Z",
     "iopub.status.busy": "2022-10-21T11:57:48.512254Z",
     "iopub.status.idle": "2022-10-21T11:57:49.583589Z",
     "shell.execute_reply": "2022-10-21T11:57:49.582561Z",
     "shell.execute_reply.started": "2022-10-21T11:57:48.512767Z"
    },
    "tags": []
   },
   "outputs": [],
   "source": [
    "swift.reset()"
   ]
  },
  {
   "cell_type": "code",
   "execution_count": 7,
   "id": "c5327c15-0d64-408a-a33a-f5a9f47bf81d",
   "metadata": {
    "execution": {
     "iopub.execute_input": "2022-10-21T11:57:50.468585Z",
     "iopub.status.busy": "2022-10-21T11:57:50.468334Z",
     "iopub.status.idle": "2022-10-21T11:57:50.490322Z",
     "shell.execute_reply": "2022-10-21T11:57:50.489548Z",
     "shell.execute_reply.started": "2022-10-21T11:57:50.468558Z"
    },
    "tags": []
   },
   "outputs": [
    {
     "data": {
      "text/plain": [
       "[200.0, 0.0, 150.0]"
      ]
     },
     "execution_count": 7,
     "metadata": {},
     "output_type": "execute_result"
    }
   ],
   "source": [
    "swift.get_position()"
   ]
  },
  {
   "cell_type": "markdown",
   "id": "4376d962-f950-4087-8951-93cc7c6033f6",
   "metadata": {},
   "source": [
    "## Load tip\n",
    "\n",
    "Assuming a particular spatial arrangement of tips, tubes and plates."
   ]
  },
  {
   "cell_type": "markdown",
   "id": "c95f6a0a-c102-4218-97d7-fd84216312a4",
   "metadata": {},
   "source": [
    "The angle here is in `[x,y,z]`\n",
    "\n",
    "If you were the arm, with the cables connected to your back and looking forward.\n",
    "<!-- * `x` = left and right \n",
    "* `y` = the arm stretched outward or contracted inward\n",
    "* `z` = up and down.  -->\n",
    "* `x` = the arm stretched outward or contracted inward\n",
    "* `y` = left and right \n",
    "* `z` = up and down. "
   ]
  },
  {
   "cell_type": "code",
   "execution_count": 54,
   "id": "f560adf0-a175-45f8-8464-963e8b05b427",
   "metadata": {
    "execution": {
     "iopub.execute_input": "2022-10-21T12:14:20.073934Z",
     "iopub.status.busy": "2022-10-21T12:14:20.073684Z",
     "iopub.status.idle": "2022-10-21T12:14:20.080713Z",
     "shell.execute_reply": "2022-10-21T12:14:20.079557Z",
     "shell.execute_reply.started": "2022-10-21T12:14:20.073907Z"
    },
    "tags": []
   },
   "outputs": [],
   "source": [
    "def load_tip(x, y, z):\n",
    "    \n",
    "    swift.set_position(z=150)\n",
    "    # go to tip position\n",
    "    swift.set_speed_factor(factor=2)\n",
    "    swift.set_position(x=x, \n",
    "                       y=y, \n",
    "                       z=z+80)\n",
    "    \n",
    "    # tap-on tip\n",
    "    swift.set_speed_factor(factor=1)\n",
    "    swift.set_position(z=z-5)\n",
    "    time.sleep(0.1)\n",
    "    \n",
    "    swift.set_position(z=z)\n",
    "    time.sleep(0.1)\n",
    "    \n",
    "    swift.set_position(z=z-6)\n",
    "    time.sleep(0.1)\n",
    "    \n",
    "    swift.set_position(z=z)\n",
    "    time.sleep(0.1)\n",
    "    \n",
    "    swift.set_position(z=z-7)\n",
    "    time.sleep(0.1)\n",
    "    \n",
    "    swift.set_position(z=z)\n",
    "    \n",
    "    # raise tip up\n",
    "    swift.set_position(z=z+80)\n",
    "    time.sleep(1)\n",
    "    \n",
    "    swift.set_speed_factor(factor=2)\n",
    "    swift.set_position(z=150)"
   ]
  },
  {
   "cell_type": "markdown",
   "id": "04191a61-0499-4d96-b091-ee33697328eb",
   "metadata": {
    "tags": []
   },
   "source": [
    "## Get sample from 96-well plate"
   ]
  },
  {
   "cell_type": "code",
   "execution_count": 55,
   "id": "913f7417-599c-47f8-8f0c-a80eab2f69c1",
   "metadata": {
    "execution": {
     "iopub.execute_input": "2022-10-21T12:14:21.584660Z",
     "iopub.status.busy": "2022-10-21T12:14:21.584414Z",
     "iopub.status.idle": "2022-10-21T12:14:21.589693Z",
     "shell.execute_reply": "2022-10-21T12:14:21.588954Z",
     "shell.execute_reply.started": "2022-10-21T12:14:21.584632Z"
    },
    "tags": []
   },
   "outputs": [],
   "source": [
    "def get_sample_from_96well(x,y,z):\n",
    "    \n",
    "    swift.set_position(z=150)\n",
    "    # go to well position\n",
    "    swift.set_speed_factor(factor=2)\n",
    "    swift.set_position(x=x, \n",
    "                       y=y, \n",
    "                       z=z+80)\n",
    "    \n",
    "    # put tip in well\n",
    "    swift.set_speed_factor(factor=1)\n",
    "    swift.set_position(z=z)\n",
    "    time.sleep(6)\n",
    "    \n",
    "    # pull up tip\n",
    "    swift.set_speed_factor(factor=2)\n",
    "    swift.set_position(z=z+80)\n",
    "    time.sleep(1)\n",
    "    swift.set_position(z=150)"
   ]
  },
  {
   "cell_type": "markdown",
   "id": "c11fec69-08dd-42cd-a05d-e73fac880254",
   "metadata": {},
   "source": [
    "## Put sample in tube"
   ]
  },
  {
   "cell_type": "code",
   "execution_count": 56,
   "id": "9d88c257-2e65-4c36-b4d6-6875ef951abd",
   "metadata": {
    "execution": {
     "iopub.execute_input": "2022-10-21T12:14:23.047359Z",
     "iopub.status.busy": "2022-10-21T12:14:23.046986Z",
     "iopub.status.idle": "2022-10-21T12:14:23.052473Z",
     "shell.execute_reply": "2022-10-21T12:14:23.051768Z",
     "shell.execute_reply.started": "2022-10-21T12:14:23.047332Z"
    },
    "tags": []
   },
   "outputs": [],
   "source": [
    "def put_sample_in_tube(x,y,z):\n",
    "    \n",
    "    swift.set_position(z=150)\n",
    "    time.sleep(1)\n",
    "    swift.set_speed_factor(factor=2)\n",
    "    \n",
    "    swift.set_position(x=x, \n",
    "                       y=y, \n",
    "                       z=z+88)\n",
    "    time.sleep(1)\n",
    "    \n",
    "    swift.set_speed_factor(factor=1)\n",
    "    swift.set_position(z=z)\n",
    "    time.sleep(6)\n",
    "    \n",
    "    swift.set_position(z=z+88)\n",
    "    time.sleep(1)\n",
    "    \n",
    "    swift.set_speed_factor(factor=2)\n",
    "    swift.set_position(z=150)\n",
    "    "
   ]
  },
  {
   "cell_type": "markdown",
   "id": "24626116-740a-417f-b959-64557d9d1fd1",
   "metadata": {},
   "source": [
    "## Eject tip"
   ]
  },
  {
   "cell_type": "code",
   "execution_count": 49,
   "id": "5889bd28-a0cc-46f8-9d9f-373a13471786",
   "metadata": {
    "execution": {
     "iopub.execute_input": "2022-10-21T12:12:37.757686Z",
     "iopub.status.busy": "2022-10-21T12:12:37.757303Z",
     "iopub.status.idle": "2022-10-21T12:12:37.762378Z",
     "shell.execute_reply": "2022-10-21T12:12:37.761644Z",
     "shell.execute_reply.started": "2022-10-21T12:12:37.757659Z"
    },
    "tags": []
   },
   "outputs": [],
   "source": [
    "def eject_tip():\n",
    "    time.sleep(1)\n",
    "    swift.set_wrist(0)\n",
    "    time.sleep(1)\n",
    "    swift.set_wrist(90)\n",
    "    time.sleep(1)\n",
    "    swift.set_wrist(180)\n",
    "    time.sleep(1)\n",
    "    swift.set_wrist(90)\n",
    "    time.sleep(1)"
   ]
  },
  {
   "cell_type": "code",
   "execution_count": 50,
   "id": "dfac9ef7-086e-4cf4-afb6-c49be2029cec",
   "metadata": {
    "execution": {
     "iopub.execute_input": "2022-10-21T12:12:38.251940Z",
     "iopub.status.busy": "2022-10-21T12:12:38.251300Z",
     "iopub.status.idle": "2022-10-21T12:12:43.275289Z",
     "shell.execute_reply": "2022-10-21T12:12:43.274110Z",
     "shell.execute_reply.started": "2022-10-21T12:12:38.251912Z"
    },
    "tags": []
   },
   "outputs": [],
   "source": [
    "eject_tip()"
   ]
  },
  {
   "cell_type": "markdown",
   "id": "0181ad75-358b-43e0-a211-651f3ea751c1",
   "metadata": {},
   "source": [
    "## All movements"
   ]
  },
  {
   "cell_type": "code",
   "execution_count": 51,
   "id": "5fc41228-61e5-4b4d-aeca-f75821f8dcea",
   "metadata": {
    "execution": {
     "iopub.execute_input": "2022-10-21T12:12:43.899734Z",
     "iopub.status.busy": "2022-10-21T12:12:43.899352Z",
     "iopub.status.idle": "2022-10-21T12:12:43.903653Z",
     "shell.execute_reply": "2022-10-21T12:12:43.902939Z",
     "shell.execute_reply.started": "2022-10-21T12:12:43.899707Z"
    },
    "tags": []
   },
   "outputs": [],
   "source": [
    "swift.set_position(z=150)"
   ]
  },
  {
   "cell_type": "code",
   "execution_count": 44,
   "id": "12ec9655-7e93-44de-8ff0-852f4c8f9b7c",
   "metadata": {
    "execution": {
     "iopub.execute_input": "2022-10-21T12:10:14.310653Z",
     "iopub.status.busy": "2022-10-21T12:10:14.310438Z",
     "iopub.status.idle": "2022-10-21T12:10:15.385239Z",
     "shell.execute_reply": "2022-10-21T12:10:15.384612Z",
     "shell.execute_reply.started": "2022-10-21T12:10:14.310630Z"
    },
    "tags": []
   },
   "outputs": [],
   "source": [
    "swift.reset()"
   ]
  },
  {
   "cell_type": "code",
   "execution_count": 42,
   "id": "ce2cd71e-73be-40f1-9ead-2493b80dcd97",
   "metadata": {
    "execution": {
     "iopub.execute_input": "2022-10-21T12:09:11.249390Z",
     "iopub.status.busy": "2022-10-21T12:09:11.249118Z",
     "iopub.status.idle": "2022-10-21T12:09:59.291202Z",
     "shell.execute_reply": "2022-10-21T12:09:59.290466Z",
     "shell.execute_reply.started": "2022-10-21T12:09:11.249360Z"
    },
    "tags": []
   },
   "outputs": [],
   "source": [
    "swift.reset()\n",
    "time.sleep(1)\n",
    "\n",
    "# x = 290.5\n",
    "# y = 66.5\n",
    "x = 290.5\n",
    "y = 65\n",
    "z = 58\n",
    "load_tip(x, y, z)\n",
    "time.sleep(1)\n",
    "\n",
    "x = 172  # well x\n",
    "y = 68   # well y\n",
    "z = 52   # height of tip in well\n",
    "get_sample_from_96well(x,y,z)\n",
    "time.sleep(1)\n",
    "\n",
    "x = 298  # tube x\n",
    "y = -99  # tube y\n",
    "z = 55   # height of tube\n",
    "put_sample_in_tube(x,y,z)\n",
    "time.sleep(1)\n",
    "\n",
    "swift.reset()\n",
    "time.sleep(1)\n",
    "\n",
    "x = 290.5\n",
    "y = 65\n",
    "z = 140\n",
    "swift.set_position(x=x,y=y,z=z)\n",
    "time.sleep(1)\n",
    "\n",
    "z=66\n",
    "swift.set_position(z=z)\n",
    "time.sleep(2)\n",
    "\n",
    "eject_tip()\n",
    "time.sleep(1)\n",
    "\n",
    "z = 140\n",
    "swift.set_position(z=z)\n",
    "time.sleep(1)\n",
    "\n",
    "swift.reset()\n",
    "time.sleep(1)"
   ]
  },
  {
   "cell_type": "code",
   "execution_count": 12,
   "id": "5609de54-43f4-4365-8253-923c5f2a6e93",
   "metadata": {
    "execution": {
     "iopub.execute_input": "2022-10-21T11:58:12.652576Z",
     "iopub.status.busy": "2022-10-21T11:58:12.652150Z",
     "iopub.status.idle": "2022-10-21T11:58:12.655991Z",
     "shell.execute_reply": "2022-10-21T11:58:12.655186Z",
     "shell.execute_reply.started": "2022-10-21T11:58:12.652549Z"
    },
    "tags": []
   },
   "outputs": [],
   "source": [
    "# swift.set_speed_factor(factor=2)"
   ]
  },
  {
   "cell_type": "code",
   "execution_count": 13,
   "id": "177af479-1b88-4aec-8aa0-a01ea576a272",
   "metadata": {
    "execution": {
     "iopub.execute_input": "2022-10-21T11:58:15.534580Z",
     "iopub.status.busy": "2022-10-21T11:58:15.534322Z",
     "iopub.status.idle": "2022-10-21T11:58:16.616263Z",
     "shell.execute_reply": "2022-10-21T11:58:16.614607Z",
     "shell.execute_reply.started": "2022-10-21T11:58:15.534552Z"
    },
    "tags": []
   },
   "outputs": [],
   "source": [
    "swift.reset()"
   ]
  },
  {
   "cell_type": "code",
   "execution_count": 14,
   "id": "5e84fd7d-647c-40b3-9a5c-92a91f5c764a",
   "metadata": {
    "execution": {
     "iopub.execute_input": "2022-10-21T11:58:28.569252Z",
     "iopub.status.busy": "2022-10-21T11:58:28.568976Z",
     "iopub.status.idle": "2022-10-21T11:58:28.573602Z",
     "shell.execute_reply": "2022-10-21T11:58:28.572964Z",
     "shell.execute_reply.started": "2022-10-21T11:58:28.569224Z"
    },
    "tags": []
   },
   "outputs": [],
   "source": [
    "x = 290.5\n",
    "\n",
    "y = 66.5\n",
    "z = 64.5\n",
    "swift.set_position(x=x, \n",
    "                   y=y, \n",
    "                   z=z)"
   ]
  },
  {
   "cell_type": "code",
   "execution_count": 15,
   "id": "4aad9776-a57e-432a-9d55-4d539de48fc9",
   "metadata": {
    "execution": {
     "iopub.execute_input": "2022-10-21T11:58:40.785628Z",
     "iopub.status.busy": "2022-10-21T11:58:40.785332Z",
     "iopub.status.idle": "2022-10-21T11:58:46.524591Z",
     "shell.execute_reply": "2022-10-21T11:58:46.523895Z",
     "shell.execute_reply.started": "2022-10-21T11:58:40.785600Z"
    },
    "tags": []
   },
   "outputs": [],
   "source": [
    "z = 60\n",
    "\n",
    "load_tip(x, y, z)\n",
    "# swift.set_position(z=z)"
   ]
  },
  {
   "cell_type": "code",
   "execution_count": null,
   "id": "655cf094-cbb4-4dba-86e5-02c059eb26ee",
   "metadata": {
    "tags": []
   },
   "outputs": [],
   "source": [
    "x = 289.75\n",
    "y = 70.5\n",
    "\n",
    "z = 140\n",
    "swift.set_position(x=x, \n",
    "                   y=y, \n",
    "                   z=z)\n",
    "\n",
    "time.sleep(1)\n",
    "\n",
    "z = 60\n",
    "swift.set_position(x=x, \n",
    "                   y=y, \n",
    "                   z=z)\n",
    "time.sleep(4)\n",
    "\n",
    "z = 140\n",
    "swift.set_position(x=x, \n",
    "                   y=y, \n",
    "                   z=z)"
   ]
  },
  {
   "cell_type": "code",
   "execution_count": null,
   "id": "33824c76-4452-4e0d-a771-59e91a73c7d2",
   "metadata": {
    "tags": []
   },
   "outputs": [],
   "source": [
    "x = 172  # well x\n",
    "y = 68   # well y\n",
    "z = 50.8 # height of tip in well\n",
    "get_sample_from_96well(x,y,z)"
   ]
  },
  {
   "cell_type": "code",
   "execution_count": null,
   "id": "b7421bf8-e7ac-4529-8f71-ae4db14cf489",
   "metadata": {
    "tags": []
   },
   "outputs": [],
   "source": [
    "x = 302  # tube x\n",
    "y = -93  # tube y\n",
    "z = 140 \n",
    "swift.set_position(x=x, \n",
    "                   y=y, \n",
    "                   z=z)"
   ]
  },
  {
   "cell_type": "code",
   "execution_count": null,
   "id": "e3cbabd3-0f58-4d05-a89a-2cc4ba9a6630",
   "metadata": {
    "tags": []
   },
   "outputs": [],
   "source": [
    "# x = 302  # tube x\n",
    "# y = -93  # tube y\n",
    "z = 52     # height of tube\n",
    "swift.set_position(z=z)\n",
    "\n",
    "time.sleep(3)\n",
    "\n",
    "z=140\n",
    "swift.set_position(z=z)"
   ]
  },
  {
   "cell_type": "code",
   "execution_count": 48,
   "id": "c18d6ea1-359f-46f8-b758-a6c263d14636",
   "metadata": {
    "execution": {
     "iopub.execute_input": "2022-10-21T12:12:25.571288Z",
     "iopub.status.busy": "2022-10-21T12:12:25.570978Z",
     "iopub.status.idle": "2022-10-21T12:12:34.591209Z",
     "shell.execute_reply": "2022-10-21T12:12:34.590021Z",
     "shell.execute_reply.started": "2022-10-21T12:12:25.571253Z"
    },
    "tags": []
   },
   "outputs": [],
   "source": [
    "x = 298  # tube x\n",
    "y = -99  # tube y\n",
    "z = 55   # height of tube\n",
    "put_sample_in_tube(x,y,z)"
   ]
  },
  {
   "cell_type": "code",
   "execution_count": 39,
   "id": "f51dee55-a654-4ba9-8c34-0490a75139a9",
   "metadata": {
    "execution": {
     "iopub.execute_input": "2022-10-21T12:08:34.071688Z",
     "iopub.status.busy": "2022-10-21T12:08:34.071433Z",
     "iopub.status.idle": "2022-10-21T12:08:39.088386Z",
     "shell.execute_reply": "2022-10-21T12:08:39.087477Z",
     "shell.execute_reply.started": "2022-10-21T12:08:34.071663Z"
    },
    "tags": []
   },
   "outputs": [],
   "source": [
    "# time.sleep(1)\n",
    "\n",
    "x = 290.5\n",
    "y = 65\n",
    "z = 66\n",
    "swift.set_position(x=x,\n",
    "                   y=y,\n",
    "                   z=z)\n",
    "# z=70\n",
    "# swift.set_position(z=z)\n",
    "\n",
    "# time.sleep(2)\n",
    "\n",
    "# eject_tip()\n",
    "\n",
    "# time.sleep(1)\n",
    "\n",
    "# z=140\n",
    "# swift.set_position(z=z)\n",
    "\n",
    "# time.sleep(1)"
   ]
  },
  {
   "cell_type": "code",
   "execution_count": null,
   "id": "ae07c9f5-aa02-443b-a1dd-c1f7cf69d6af",
   "metadata": {
    "tags": []
   },
   "outputs": [],
   "source": [
    "# swift.reset()"
   ]
  },
  {
   "cell_type": "code",
   "execution_count": null,
   "id": "fcd1ffec-dc87-4964-abbe-9b5d8965406c",
   "metadata": {
    "tags": []
   },
   "outputs": [],
   "source": [
    "# x = 298  # tube x\n",
    "# y = -99  # tube y\n",
    "# z = 45  # height of tube\n",
    "# # z = 140\n",
    "# swift.set_position(x=x,y=y,z=z)"
   ]
  },
  {
   "cell_type": "code",
   "execution_count": null,
   "id": "4a47f487-8856-4ecb-8c22-d7107fd341ec",
   "metadata": {},
   "outputs": [],
   "source": []
  },
  {
   "cell_type": "code",
   "execution_count": null,
   "id": "02ce8dbd-e6f4-46b7-a825-ca76c2e840de",
   "metadata": {
    "tags": []
   },
   "outputs": [],
   "source": [
    "x = 172\n",
    "y = 68\n",
    "z = 140\n",
    "\n",
    "swift.set_speed_factor(factor=2)\n",
    "swift.set_position(x=x, \n",
    "                   y=y, \n",
    "                   z=z)"
   ]
  },
  {
   "cell_type": "code",
   "execution_count": null,
   "id": "f2a856b2-a295-496a-bb93-8379a7542631",
   "metadata": {
    "tags": []
   },
   "outputs": [],
   "source": [
    "swift.set_speed_factor(factor=1)\n",
    "# x = 172\n",
    "# y = 68\n",
    "z = 50.8\n",
    "swift.set_position(x=x, \n",
    "                   y=y, \n",
    "                   z=z)"
   ]
  },
  {
   "cell_type": "code",
   "execution_count": null,
   "id": "986f83f9-ec5d-4e6f-82cc-6388d0440cad",
   "metadata": {},
   "outputs": [],
   "source": [
    "# x = 172\n",
    "# y = 68\n",
    "z = 140\n",
    "\n",
    "swift.set_speed_factor(factor=2)\n",
    "swift.set_position(x=x, \n",
    "                   y=y, \n",
    "                   z=z)"
   ]
  },
  {
   "cell_type": "markdown",
   "id": "e7ba4777-0698-4eac-9f6e-b2ab12b3b6ce",
   "metadata": {},
   "source": [
    "### "
   ]
  },
  {
   "cell_type": "code",
   "execution_count": null,
   "id": "9a85c1c6-6da6-41bd-9764-83191463797a",
   "metadata": {
    "tags": []
   },
   "outputs": [],
   "source": [
    "# raise tip up\n",
    "swift.set_position(x=291, \n",
    "                   y=67, \n",
    "                   z=140)"
   ]
  },
  {
   "cell_type": "code",
   "execution_count": null,
   "id": "b503a252-cad7-4d24-a2f4-64c4731db938",
   "metadata": {
    "tags": []
   },
   "outputs": [],
   "source": [
    "swift.set_position(x=300, \n",
    "                   y=-100, \n",
    "                   z=140)"
   ]
  },
  {
   "cell_type": "code",
   "execution_count": null,
   "id": "60d05fc1-f3c2-4783-a872-6bde631f1b9b",
   "metadata": {
    "tags": []
   },
   "outputs": [],
   "source": [
    "swift.set_position(x=300, \n",
    "                   y=-100, \n",
    "                   z=60)"
   ]
  },
  {
   "cell_type": "code",
   "execution_count": null,
   "id": "035e6723-5f1e-4110-aca5-a976048cd6ee",
   "metadata": {},
   "outputs": [],
   "source": [
    "swift.set_position(x=300, \n",
    "                   y=-100, \n",
    "                   z=140)"
   ]
  },
  {
   "cell_type": "code",
   "execution_count": null,
   "id": "8b198fd7-c0e8-4c10-8b5b-eeb42115f848",
   "metadata": {},
   "outputs": [],
   "source": []
  },
  {
   "cell_type": "code",
   "execution_count": null,
   "id": "a6ac3e69-9568-4f94-a5e7-185847287768",
   "metadata": {},
   "outputs": [],
   "source": []
  },
  {
   "cell_type": "code",
   "execution_count": null,
   "id": "8a9eda93-912e-4e40-9cf3-123597978ab1",
   "metadata": {},
   "outputs": [],
   "source": []
  },
  {
   "cell_type": "code",
   "execution_count": null,
   "id": "46b33f75-2d0f-496e-afe5-0c7a797a269e",
   "metadata": {},
   "outputs": [],
   "source": []
  },
  {
   "cell_type": "code",
   "execution_count": null,
   "id": "22a55033-4760-403f-8a56-079a23f3d0d5",
   "metadata": {},
   "outputs": [],
   "source": []
  },
  {
   "cell_type": "code",
   "execution_count": null,
   "id": "e5c5fb82-4842-4e6b-8fa7-0368e2982404",
   "metadata": {},
   "outputs": [],
   "source": []
  },
  {
   "cell_type": "code",
   "execution_count": null,
   "id": "97913854-3920-4b1f-af35-8967dd1e169f",
   "metadata": {
    "tags": []
   },
   "outputs": [],
   "source": [
    "swift.disconnect()"
   ]
  },
  {
   "cell_type": "code",
   "execution_count": null,
   "id": "0a039d25-5ba1-4835-acb6-a4d22d4aed59",
   "metadata": {},
   "outputs": [],
   "source": []
  }
 ],
 "metadata": {
  "kernelspec": {
   "display_name": "Python 3 (ipykernel)",
   "language": "python",
   "name": "python3"
  },
  "language_info": {
   "codemirror_mode": {
    "name": "ipython",
    "version": 3
   },
   "file_extension": ".py",
   "mimetype": "text/x-python",
   "name": "python",
   "nbconvert_exporter": "python",
   "pygments_lexer": "ipython3",
   "version": "3.9.13"
  }
 },
 "nbformat": 4,
 "nbformat_minor": 5
}
