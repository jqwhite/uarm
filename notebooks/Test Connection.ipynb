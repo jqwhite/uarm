{
 "cells": [
  {
   "cell_type": "markdown",
   "metadata": {},
   "source": [
    "# Confirming that your uArm is connected and ready to use. \n",
    "\n",
    "This is a good \"hello world\" for the uArm. This will confirm that everything is set up and ready to go. I'm including the logger functions so that you can confirm that your uArm is working as it should. \n",
    "\n",
    "* uArm must be turned on\n",
    "* uArm must be connected via USB to your machine. \n",
    "* you must be running this notebook with __Administration__ permissions. \n",
    "* you can only have one connection open at a time. Make sure to `swift.disconnect()` before switching to a different notebook. \n",
    "\n",
    "If you are able to run the uArmStudio and move the arm, then you should be good to go. However make sure that you exit uArmStudio to free up the port. "
   ]
  },
  {
   "cell_type": "code",
   "execution_count": 28,
   "metadata": {
    "execution": {
     "iopub.execute_input": "2022-09-26T14:20:17.851408Z",
     "iopub.status.busy": "2022-09-26T14:20:17.851113Z",
     "iopub.status.idle": "2022-09-26T14:20:17.855884Z",
     "shell.execute_reply": "2022-09-26T14:20:17.855152Z",
     "shell.execute_reply.started": "2022-09-26T14:20:17.851378Z"
    },
    "tags": []
   },
   "outputs": [],
   "source": [
    "import sys\n",
    "#the uArm application is inside of the parent directory, this assumes that you are runing this notebook in the `notebooks` directory\n",
    "sys.path.append('..')\n",
    "\n",
    "from uarm.wrapper import SwiftAPI\n",
    "from uarm.utils.log import logger\n",
    "logger.setLevel(logger.VERBOSE)"
   ]
  },
  {
   "cell_type": "markdown",
   "metadata": {},
   "source": [
    "This next item establishes a link between the uArm and your kernel. You can only run this once as only one connection is allowed. Also, if you are running uArmStudio or any other application that connects to the arm this next line will throw an exception. \n",
    "\n",
    "if you get: \n",
    "```\n",
    "SerialException could not open port 'COM3': PermissionError(13, 'Access is denied.', None, 5)\n",
    "```\n",
    "\n",
    "It means that either you are not running with __administrator__ permissions or something else has already made a connection. "
   ]
  },
  {
   "cell_type": "markdown",
   "metadata": {},
   "source": [
    "Things to troubleshoot (Windows):\n",
    "* Administrator mode\n",
    "* Open the device manager, disable the device and enable it again. \n",
    "* Restart your computer\n",
    "* Make sure that UarmStudio or any other program using the arm is closed\n",
    "* Make sure you are specifying the correct port"
   ]
  },
  {
   "cell_type": "code",
   "execution_count": 30,
   "metadata": {
    "execution": {
     "iopub.execute_input": "2022-09-26T14:20:58.226009Z",
     "iopub.status.busy": "2022-09-26T14:20:58.225521Z",
     "iopub.status.idle": "2022-09-26T14:20:58.236645Z",
     "shell.execute_reply": "2022-09-26T14:20:58.235668Z",
     "shell.execute_reply.started": "2022-09-26T14:20:58.225982Z"
    },
    "tags": []
   },
   "outputs": [
    {
     "name": "stdout",
     "output_type": "stream",
     "text": [
      "[INFO] 2022-09-26 16:20:58 [/opt/miniconda3/envs/uarm/lib/python3.9/site-packages/uArm_Python_SDK-2.0.6-py3.9.egg/uarm/comm/__init__.py:98]: connect /dev/tty.usbmodem1432401 success\n",
      "[DEBUG] 2022-09-26 16:20:58 [/opt/miniconda3/envs/uarm/lib/python3.9/site-packages/uArm_Python_SDK-2.0.6-py3.9.egg/uarm/comm/threaded.py:64]: serial read thread start ...\n",
      "[DEBUG] 2022-09-26 16:20:58 [/opt/miniconda3/envs/uarm/lib/python3.9/site-packages/uArm_Python_SDK-2.0.6-py3.9.egg/uarm/swift/__init__.py:139]: asyncio thread start ...\n",
      "[DEBUG] 2022-09-26 16:20:58 [/opt/miniconda3/envs/uarm/lib/python3.9/site-packages/uArm_Python_SDK-2.0.6-py3.9.egg/uarm/swift/__init__.py:176]: serial result handle thread start ...\n"
     ]
    }
   ],
   "source": [
    "# Note if you are running this you will need to make sure that you run with \"Administrator Permissions\"\n",
    "# swift = SwiftAPI(port=\"COM4\", callback_thread_pool_size=1) #tty.usbmodem1432401\n",
    "\n",
    "swift = SwiftAPI(port=\"/dev/tty.usbmodem1432401\", callback_thread_pool_size=1)"
   ]
  },
  {
   "cell_type": "markdown",
   "metadata": {},
   "source": [
    "If you get anything but an error the device is likely connected. On mine there is a loud single **beep** from the arm when it is connected. "
   ]
  },
  {
   "cell_type": "code",
   "execution_count": 31,
   "metadata": {
    "execution": {
     "iopub.execute_input": "2022-09-26T14:21:02.165427Z",
     "iopub.status.busy": "2022-09-26T14:21:02.164880Z",
     "iopub.status.idle": "2022-09-26T14:21:22.181297Z",
     "shell.execute_reply": "2022-09-26T14:21:22.180608Z",
     "shell.execute_reply.started": "2022-09-26T14:21:02.165399Z"
    },
    "tags": []
   },
   "outputs": [
    {
     "name": "stdout",
     "output_type": "stream",
     "text": [
      "[VERBOSE] 2022-09-26 16:21:02 [/opt/miniconda3/envs/uarm/lib/python3.9/site-packages/uArm_Python_SDK-2.0.6-py3.9.egg/uarm/comm/threaded.py:102]: send: /dev/tty.usbmodem1432401, b'#1 P2201\\n'\n",
      "[VERBOSE] 2022-09-26 16:21:02 [/opt/miniconda3/envs/uarm/lib/python3.9/site-packages/uArm_Python_SDK-2.0.6-py3.9.egg/uarm/comm/threaded.py:102]: send: /dev/tty.usbmodem1432401, b'#2 P2202\\n'\n",
      "[VERBOSE] 2022-09-26 16:21:02 [/opt/miniconda3/envs/uarm/lib/python3.9/site-packages/uArm_Python_SDK-2.0.6-py3.9.egg/uarm/comm/__init__.py:38]: recv: eho:nkow omn:\"ðð12$2 ok V3.3.1\n",
      "[VERBOSE] 2022-09-26 16:21:12 [/opt/miniconda3/envs/uarm/lib/python3.9/site-packages/uArm_Python_SDK-2.0.6-py3.9.egg/uarm/comm/threaded.py:102]: send: /dev/tty.usbmodem1432401, b'#3 P2203\\n'\n",
      "[VERBOSE] 2022-09-26 16:21:12 [/opt/miniconda3/envs/uarm/lib/python3.9/site-packages/uArm_Python_SDK-2.0.6-py3.9.egg/uarm/comm/threaded.py:102]: send: /dev/tty.usbmodem1432401, b'#4 P2204\\n'\n",
      "[INFO] 2022-09-26 16:21:12 [/opt/miniconda3/envs/uarm/lib/python3.9/site-packages/uArm_Python_SDK-2.0.6-py3.9.egg/uarm/comm/__init__.py:50]: connection is lost\n",
      "[DEBUG] 2022-09-26 16:21:12 [/opt/miniconda3/envs/uarm/lib/python3.9/site-packages/uArm_Python_SDK-2.0.6-py3.9.egg/uarm/comm/threaded.py:96]: serial read thread exit ...\n",
      "[DEBUG] 2022-09-26 16:21:12 [/opt/miniconda3/envs/uarm/lib/python3.9/site-packages/uArm_Python_SDK-2.0.6-py3.9.egg/uarm/swift/__init__.py:142]: asyncio thread exit ...\n",
      "[DEBUG] 2022-09-26 16:21:12 [/opt/miniconda3/envs/uarm/lib/python3.9/site-packages/uArm_Python_SDK-2.0.6-py3.9.egg/uarm/swift/__init__.py:200]: serial result handle thread exit ...\n",
      "[VERBOSE] 2022-09-26 16:21:22 [/opt/miniconda3/envs/uarm/lib/python3.9/site-packages/uArm_Python_SDK-2.0.6-py3.9.egg/uarm/comm/threaded.py:102]: send: /dev/tty.usbmodem1432401, b'#5 P2205\\n'\n",
      "{'device_type': None, 'hardware_version': None, 'firmware_version': None, 'api_version': None, 'device_unique': None}\n"
     ]
    }
   ],
   "source": [
    "device_info = swift.get_device_info()\n",
    "print(device_info)"
   ]
  },
  {
   "cell_type": "markdown",
   "metadata": {},
   "source": [
    "##  Make some small movements to confirm that it's connected"
   ]
  },
  {
   "cell_type": "code",
   "execution_count": 22,
   "metadata": {
    "execution": {
     "iopub.execute_input": "2022-09-26T13:40:56.172152Z",
     "iopub.status.busy": "2022-09-26T13:40:56.171882Z",
     "iopub.status.idle": "2022-09-26T13:40:56.177684Z",
     "shell.execute_reply": "2022-09-26T13:40:56.176554Z",
     "shell.execute_reply.started": "2022-09-26T13:40:56.172125Z"
    },
    "tags": []
   },
   "outputs": [
    {
     "name": "stdout",
     "output_type": "stream",
     "text": [
      "[VERBOSE] 2022-09-26 15:40:56 [/opt/miniconda3/envs/uarm/lib/python3.9/site-packages/uArm_Python_SDK-2.0.6-py3.9.egg/uarm/comm/threaded.py:102]: send: /dev/tty.usbmodem1432401, b'#9 G0 X200.0 Y0.0 Z100.0 F5000\\n'\n",
      "[VERBOSE] 2022-09-26 15:41:00 [/opt/miniconda3/envs/uarm/lib/python3.9/site-packages/uArm_Python_SDK-2.0.6-py3.9.egg/uarm/comm/__init__.py:38]: recv: $9 ok\n"
     ]
    }
   ],
   "source": [
    "swift.set_position(x=200, y=0, z=100)"
   ]
  },
  {
   "cell_type": "markdown",
   "metadata": {},
   "source": [
    "The arm should have moved. To test, try entering another coordinate. "
   ]
  },
  {
   "cell_type": "code",
   "execution_count": 23,
   "metadata": {
    "execution": {
     "iopub.execute_input": "2022-09-26T13:41:02.603118Z",
     "iopub.status.busy": "2022-09-26T13:41:02.602808Z",
     "iopub.status.idle": "2022-09-26T13:41:02.608295Z",
     "shell.execute_reply": "2022-09-26T13:41:02.607642Z",
     "shell.execute_reply.started": "2022-09-26T13:41:02.603091Z"
    },
    "tags": []
   },
   "outputs": [
    {
     "name": "stdout",
     "output_type": "stream",
     "text": [
      "[VERBOSE] 2022-09-26 15:41:02 [/opt/miniconda3/envs/uarm/lib/python3.9/site-packages/uArm_Python_SDK-2.0.6-py3.9.egg/uarm/comm/threaded.py:102]: send: /dev/tty.usbmodem1432401, b'#10 G0 X100.0 Y100.0 Z130.0 F5000\\n'\n",
      "[VERBOSE] 2022-09-26 15:41:07 [/opt/miniconda3/envs/uarm/lib/python3.9/site-packages/uArm_Python_SDK-2.0.6-py3.9.egg/uarm/comm/__init__.py:38]: recv: $10 ok\n"
     ]
    }
   ],
   "source": [
    "swift.set_position(x=100, y=100, z=130)"
   ]
  },
  {
   "cell_type": "markdown",
   "metadata": {},
   "source": [
    "## Close the connection\n",
    "\n",
    "At the end, disconnect from the Arm so that other applications can use it. "
   ]
  },
  {
   "cell_type": "code",
   "execution_count": 24,
   "metadata": {
    "execution": {
     "iopub.execute_input": "2022-09-26T13:41:08.259047Z",
     "iopub.status.busy": "2022-09-26T13:41:08.258773Z",
     "iopub.status.idle": "2022-09-26T13:41:08.270500Z",
     "shell.execute_reply": "2022-09-26T13:41:08.269828Z",
     "shell.execute_reply.started": "2022-09-26T13:41:08.259020Z"
    },
    "tags": []
   },
   "outputs": [
    {
     "name": "stdout",
     "output_type": "stream",
     "text": [
      "[INFO] 2022-09-26 15:41:08 [/opt/miniconda3/envs/uarm/lib/python3.9/site-packages/uArm_Python_SDK-2.0.6-py3.9.egg/uarm/comm/__init__.py:50]: connection is lost\n",
      "[DEBUG] 2022-09-26 15:41:08 [/opt/miniconda3/envs/uarm/lib/python3.9/site-packages/uArm_Python_SDK-2.0.6-py3.9.egg/uarm/comm/threaded.py:96]: serial read thread exit ...\n",
      "[DEBUG] 2022-09-26 15:41:08 [/opt/miniconda3/envs/uarm/lib/python3.9/site-packages/uArm_Python_SDK-2.0.6-py3.9.egg/uarm/swift/__init__.py:200]: serial result handle thread exit ...\n"
     ]
    }
   ],
   "source": [
    "swift.disconnect()"
   ]
  },
  {
   "cell_type": "code",
   "execution_count": null,
   "metadata": {},
   "outputs": [],
   "source": []
  }
 ],
 "metadata": {
  "kernelspec": {
   "display_name": "Python 3 (ipykernel)",
   "language": "python",
   "name": "python3"
  },
  "language_info": {
   "codemirror_mode": {
    "name": "ipython",
    "version": 3
   },
   "file_extension": ".py",
   "mimetype": "text/x-python",
   "name": "python",
   "nbconvert_exporter": "python",
   "pygments_lexer": "ipython3",
   "version": "3.9.13"
  }
 },
 "nbformat": 4,
 "nbformat_minor": 4
}
