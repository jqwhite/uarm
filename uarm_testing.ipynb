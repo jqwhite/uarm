{
 "cells": [
  {
   "cell_type": "code",
   "execution_count": 1,
   "id": "6735e14a-7c14-4fab-b886-f0157859a5db",
   "metadata": {
    "execution": {
     "iopub.execute_input": "2022-09-26T14:18:05.284524Z",
     "iopub.status.busy": "2022-09-26T14:18:05.284249Z",
     "iopub.status.idle": "2022-09-26T14:18:05.289275Z",
     "shell.execute_reply": "2022-09-26T14:18:05.288156Z",
     "shell.execute_reply.started": "2022-09-26T14:18:05.284461Z"
    },
    "tags": []
   },
   "outputs": [],
   "source": [
    "# From  https://github.com/jqwhite/uArm-Python-SDK/blob/2.0/setup.py"
   ]
  },
  {
   "cell_type": "code",
   "execution_count": 8,
   "id": "1b2b4f33-4121-49d5-9887-142b3d199ca3",
   "metadata": {
    "execution": {
     "iopub.execute_input": "2022-09-26T16:16:19.643923Z",
     "iopub.status.busy": "2022-09-26T16:16:19.643381Z",
     "iopub.status.idle": "2022-09-26T16:16:19.648583Z",
     "shell.execute_reply": "2022-09-26T16:16:19.647816Z",
     "shell.execute_reply.started": "2022-09-26T16:16:19.643898Z"
    },
    "tags": []
   },
   "outputs": [],
   "source": [
    "import sys\n",
    "#the uArm application is inside of the parent directory, this assumes that you are runing this notebook in the `uarm/` directory\n",
    "sys.path.append('.')\n",
    "\n",
    "from uarm.wrapper import SwiftAPI\n",
    "from uarm.utils.log import logger\n",
    "logger.setLevel(logger.VERBOSE)"
   ]
  },
  {
   "cell_type": "code",
   "execution_count": 9,
   "id": "fb525520-6017-49f6-98b6-5b1b63456928",
   "metadata": {
    "execution": {
     "iopub.execute_input": "2022-09-26T16:16:20.283446Z",
     "iopub.status.busy": "2022-09-26T16:16:20.283185Z",
     "iopub.status.idle": "2022-09-26T16:16:20.300822Z",
     "shell.execute_reply": "2022-09-26T16:16:20.299852Z",
     "shell.execute_reply.started": "2022-09-26T16:16:20.283421Z"
    },
    "tags": []
   },
   "outputs": [
    {
     "name": "stdout",
     "output_type": "stream",
     "text": [
      "[INFO] 2022-09-26 18:16:20 [/Users/jwhite/Library/Mobile Documents/com~apple~CloudDocs/Science/GrillLab/Projects/Robots/uarm/uarm/comm/__init__.py:98]: connect /dev/tty.usbmodem1432401 success\n",
      "[DEBUG] 2022-09-26 18:16:20 [/Users/jwhite/Library/Mobile Documents/com~apple~CloudDocs/Science/GrillLab/Projects/Robots/uarm/uarm/comm/threaded.py:64]: serial read thread start ...\n",
      "[DEBUG] 2022-09-26 18:16:20 [/Users/jwhite/Library/Mobile Documents/com~apple~CloudDocs/Science/GrillLab/Projects/Robots/uarm/uarm/swift/__init__.py:139]: asyncio thread start ...\n",
      "[DEBUG] 2022-09-26 18:16:20 [/Users/jwhite/Library/Mobile Documents/com~apple~CloudDocs/Science/GrillLab/Projects/Robots/uarm/uarm/swift/__init__.py:176]: serial result handle thread start ...\n",
      "[VERBOSE] 2022-09-26 18:16:21 [/Users/jwhite/Library/Mobile Documents/com~apple~CloudDocs/Science/GrillLab/Projects/Robots/uarm/uarm/comm/__init__.py:38]: recv: start\n",
      "[VERBOSE] 2022-09-26 18:16:21 [/Users/jwhite/Library/Mobile Documents/com~apple~CloudDocs/Science/GrillLab/Projects/Robots/uarm/uarm/comm/__init__.py:38]: recv: echo:Marlin 1.1.0-RC7\n",
      "[VERBOSE] 2022-09-26 18:16:21 [/Users/jwhite/Library/Mobile Documents/com~apple~CloudDocs/Science/GrillLab/Projects/Robots/uarm/uarm/comm/__init__.py:38]: recv: echo: Last Updated: 2016-07-31 12:00 | Author: (none, default config)\n",
      "[VERBOSE] 2022-09-26 18:16:21 [/Users/jwhite/Library/Mobile Documents/com~apple~CloudDocs/Science/GrillLab/Projects/Robots/uarm/uarm/comm/__init__.py:38]: recv: Compiled: Nov  8 2017\n",
      "[VERBOSE] 2022-09-26 18:16:21 [/Users/jwhite/Library/Mobile Documents/com~apple~CloudDocs/Science/GrillLab/Projects/Robots/uarm/uarm/comm/__init__.py:38]: recv: echo: Free Memory: 2386  PlannerBufferBytes: 924\n",
      "[VERBOSE] 2022-09-26 18:16:21 [/Users/jwhite/Library/Mobile Documents/com~apple~CloudDocs/Science/GrillLab/Projects/Robots/uarm/uarm/comm/__init__.py:38]: recv: echo:Hardcoded Default Settings Loaded\n",
      "[VERBOSE] 2022-09-26 18:16:21 [/Users/jwhite/Library/Mobile Documents/com~apple~CloudDocs/Science/GrillLab/Projects/Robots/uarm/uarm/comm/__init__.py:38]: recv: echo:Steps per unit:\n",
      "[VERBOSE] 2022-09-26 18:16:21 [/Users/jwhite/Library/Mobile Documents/com~apple~CloudDocs/Science/GrillLab/Projects/Robots/uarm/uarm/comm/__init__.py:38]: recv: echo:  M92 X320.00 Y320.00 Z320.00 E84.88\n",
      "[VERBOSE] 2022-09-26 18:16:21 [/Users/jwhite/Library/Mobile Documents/com~apple~CloudDocs/Science/GrillLab/Projects/Robots/uarm/uarm/comm/__init__.py:38]: recv: echo:Maximum feedrates (mm/s):\n",
      "[VERBOSE] 2022-09-26 18:16:21 [/Users/jwhite/Library/Mobile Documents/com~apple~CloudDocs/Science/GrillLab/Projects/Robots/uarm/uarm/comm/__init__.py:38]: recv: echo:  M203 X2000.00 Y2000.00 Z2000.00 E25.00\n",
      "[VERBOSE] 2022-09-26 18:16:21 [/Users/jwhite/Library/Mobile Documents/com~apple~CloudDocs/Science/GrillLab/Projects/Robots/uarm/uarm/comm/__init__.py:38]: recv: echo:Maximum Acceleration (mm/s2):\n",
      "[VERBOSE] 2022-09-26 18:16:21 [/Users/jwhite/Library/Mobile Documents/com~apple~CloudDocs/Science/GrillLab/Projects/Robots/uarm/uarm/comm/__init__.py:38]: recv: echo:  M201 X2000 Y2000 Z2000 E10000\n",
      "[VERBOSE] 2022-09-26 18:16:21 [/Users/jwhite/Library/Mobile Documents/com~apple~CloudDocs/Science/GrillLab/Projects/Robots/uarm/uarm/comm/__init__.py:38]: recv: echo:Accelerations: P=printing, R=retract and T=travel\n",
      "[VERBOSE] 2022-09-26 18:16:21 [/Users/jwhite/Library/Mobile Documents/com~apple~CloudDocs/Science/GrillLab/Projects/Robots/uarm/uarm/comm/__init__.py:38]: recv: echo:  M204 P25.00 R25.00 T100.00\n",
      "[VERBOSE] 2022-09-26 18:16:21 [/Users/jwhite/Library/Mobile Documents/com~apple~CloudDocs/Science/GrillLab/Projects/Robots/uarm/uarm/comm/__init__.py:38]: recv: echo:Advanced variables: S=Min feedrate (mm/s), T=Min travel feedrate (mm/s), B=minimum segment time (ms), X=maximum XY jerk (mm/s),  Z=maximum Z jerk (mm/s),  E=maximum E jerk (mm/s)\n",
      "[VERBOSE] 2022-09-26 18:16:21 [/Users/jwhite/Library/Mobile Documents/com~apple~CloudDocs/Science/GrillLab/Projects/Robots/uarm/uarm/comm/__init__.py:38]: recv: echo:  M205 S0.00 T0.00 B20000 X1.00 Z1.00 E5.00\n",
      "[VERBOSE] 2022-09-26 18:16:21 [/Users/jwhite/Library/Mobile Documents/com~apple~CloudDocs/Science/GrillLab/Projects/Robots/uarm/uarm/comm/__init__.py:38]: recv: echo:Home offset (mm)\n",
      "[VERBOSE] 2022-09-26 18:16:21 [/Users/jwhite/Library/Mobile Documents/com~apple~CloudDocs/Science/GrillLab/Projects/Robots/uarm/uarm/comm/__init__.py:38]: recv: echo:  M206 X0.00 Y0.00 Z0.00\n",
      "[VERBOSE] 2022-09-26 18:16:21 [/Users/jwhite/Library/Mobile Documents/com~apple~CloudDocs/Science/GrillLab/Projects/Robots/uarm/uarm/comm/__init__.py:38]: recv: echo:PID settings:\n",
      "[VERBOSE] 2022-09-26 18:16:21 [/Users/jwhite/Library/Mobile Documents/com~apple~CloudDocs/Science/GrillLab/Projects/Robots/uarm/uarm/comm/__init__.py:38]: recv: echo:  M301 P22.20 I1.08 D114.00\n",
      "[VERBOSE] 2022-09-26 18:16:21 [/Users/jwhite/Library/Mobile Documents/com~apple~CloudDocs/Science/GrillLab/Projects/Robots/uarm/uarm/comm/__init__.py:38]: recv: echo:Filament settings: Disabled\n",
      "[VERBOSE] 2022-09-26 18:16:21 [/Users/jwhite/Library/Mobile Documents/com~apple~CloudDocs/Science/GrillLab/Projects/Robots/uarm/uarm/comm/__init__.py:38]: recv: echo:  M200 D1.75\n",
      "[VERBOSE] 2022-09-26 18:16:21 [/Users/jwhite/Library/Mobile Documents/com~apple~CloudDocs/Science/GrillLab/Projects/Robots/uarm/uarm/comm/__init__.py:38]: recv: echo:  M200 D0\n",
      "[VERBOSE] 2022-09-26 18:16:23 [/Users/jwhite/Library/Mobile Documents/com~apple~CloudDocs/Science/GrillLab/Projects/Robots/uarm/uarm/comm/__init__.py:38]: recv: @5 V1\n"
     ]
    }
   ],
   "source": [
    "# Note if you are running this you will need to make sure that you run with \"Administrator Permissions\"\n",
    "# swift = SwiftAPI(port=\"COM4\", callback_thread_pool_size=1) #tty.usbmodem1432401\n",
    "\n",
    "swift = SwiftAPI(port=\"/dev/tty.usbmodem1432401\", callback_thread_pool_size=1)"
   ]
  },
  {
   "cell_type": "code",
   "execution_count": 10,
   "id": "0b643b27-90a0-42b4-bc53-a422900bf614",
   "metadata": {
    "execution": {
     "iopub.execute_input": "2022-09-26T16:16:23.649859Z",
     "iopub.status.busy": "2022-09-26T16:16:23.649469Z",
     "iopub.status.idle": "2022-09-26T16:16:23.685695Z",
     "shell.execute_reply": "2022-09-26T16:16:23.684851Z",
     "shell.execute_reply.started": "2022-09-26T16:16:23.649830Z"
    },
    "tags": []
   },
   "outputs": [
    {
     "name": "stdout",
     "output_type": "stream",
     "text": [
      "[VERBOSE] 2022-09-26 18:16:23 [/Users/jwhite/Library/Mobile Documents/com~apple~CloudDocs/Science/GrillLab/Projects/Robots/uarm/uarm/comm/threaded.py:102]: send: /dev/tty.usbmodem1432401, b'#1 P2201\\n'\n",
      "[VERBOSE] 2022-09-26 18:16:23 [/Users/jwhite/Library/Mobile Documents/com~apple~CloudDocs/Science/GrillLab/Projects/Robots/uarm/uarm/comm/threaded.py:102]: send: /dev/tty.usbmodem1432401, b'#2 P2202\\n'\n",
      "[VERBOSE] 2022-09-26 18:16:23 [/Users/jwhite/Library/Mobile Documents/com~apple~CloudDocs/Science/GrillLab/Projects/Robots/uarm/uarm/comm/__init__.py:38]: recv: $1 ok VSwiftPro\n",
      "[VERBOSE] 2022-09-26 18:16:23 [/Users/jwhite/Library/Mobile Documents/com~apple~CloudDocs/Science/GrillLab/Projects/Robots/uarm/uarm/comm/threaded.py:102]: send: /dev/tty.usbmodem1432401, b'#3 P2203\\n'\n",
      "[VERBOSE] 2022-09-26 18:16:23 [/Users/jwhite/Library/Mobile Documents/com~apple~CloudDocs/Science/GrillLab/Projects/Robots/uarm/uarm/comm/__init__.py:38]: recv: $2 ok V3.3.1\n",
      "[VERBOSE] 2022-09-26 18:16:23 [/Users/jwhite/Library/Mobile Documents/com~apple~CloudDocs/Science/GrillLab/Projects/Robots/uarm/uarm/comm/threaded.py:102]: send: /dev/tty.usbmodem1432401, b'#4 P2204\\n'\n",
      "[VERBOSE] 2022-09-26 18:16:23 [/Users/jwhite/Library/Mobile Documents/com~apple~CloudDocs/Science/GrillLab/Projects/Robots/uarm/uarm/comm/__init__.py:38]: recv: $3 ok V3.2.0\n",
      "[VERBOSE] 2022-09-26 18:16:23 [/Users/jwhite/Library/Mobile Documents/com~apple~CloudDocs/Science/GrillLab/Projects/Robots/uarm/uarm/comm/threaded.py:102]: send: /dev/tty.usbmodem1432401, b'#5 P2205\\n'\n",
      "[VERBOSE] 2022-09-26 18:16:23 [/Users/jwhite/Library/Mobile Documents/com~apple~CloudDocs/Science/GrillLab/Projects/Robots/uarm/uarm/comm/__init__.py:38]: recv: $4 ok V3.2.0\n",
      "[VERBOSE] 2022-09-26 18:16:23 [/Users/jwhite/Library/Mobile Documents/com~apple~CloudDocs/Science/GrillLab/Projects/Robots/uarm/uarm/comm/__init__.py:38]: recv: $5 ok V3414B591533D\n",
      "{'device_type': 'SwiftPro', 'hardware_version': '3.3.1', 'firmware_version': '3.2.0', 'api_version': '3.2.0', 'device_unique': '3414B591533D'}\n"
     ]
    }
   ],
   "source": [
    "device_info = swift.get_device_info()\n",
    "print(device_info)"
   ]
  },
  {
   "cell_type": "code",
   "execution_count": 11,
   "id": "26c1e5f1-8d72-4ac0-aeda-3d632d8268d6",
   "metadata": {
    "execution": {
     "iopub.execute_input": "2022-09-26T16:16:41.702528Z",
     "iopub.status.busy": "2022-09-26T16:16:41.702039Z",
     "iopub.status.idle": "2022-09-26T16:16:41.712009Z",
     "shell.execute_reply": "2022-09-26T16:16:41.711300Z",
     "shell.execute_reply.started": "2022-09-26T16:16:41.702503Z"
    }
   },
   "outputs": [
    {
     "name": "stdout",
     "output_type": "stream",
     "text": [
      "[INFO] 2022-09-26 18:16:41 [/Users/jwhite/Library/Mobile Documents/com~apple~CloudDocs/Science/GrillLab/Projects/Robots/uarm/uarm/comm/__init__.py:50]: connection is lost\n",
      "[DEBUG] 2022-09-26 18:16:41 [/Users/jwhite/Library/Mobile Documents/com~apple~CloudDocs/Science/GrillLab/Projects/Robots/uarm/uarm/comm/threaded.py:96]: serial read thread exit ...\n",
      "[DEBUG] 2022-09-26 18:16:41 [/Users/jwhite/Library/Mobile Documents/com~apple~CloudDocs/Science/GrillLab/Projects/Robots/uarm/uarm/swift/__init__.py:200]: serial result handle thread exit ...\n"
     ]
    }
   ],
   "source": [
    "swift.disconnect()"
   ]
  },
  {
   "cell_type": "code",
   "execution_count": null,
   "id": "d5d8f84b-5dd8-422c-a762-151ec8e88d49",
   "metadata": {},
   "outputs": [],
   "source": []
  }
 ],
 "metadata": {
  "kernelspec": {
   "display_name": "Python 3 (ipykernel)",
   "language": "python",
   "name": "python3"
  },
  "language_info": {
   "codemirror_mode": {
    "name": "ipython",
    "version": 3
   },
   "file_extension": ".py",
   "mimetype": "text/x-python",
   "name": "python",
   "nbconvert_exporter": "python",
   "pygments_lexer": "ipython3",
   "version": "3.9.13"
  }
 },
 "nbformat": 4,
 "nbformat_minor": 5
}
