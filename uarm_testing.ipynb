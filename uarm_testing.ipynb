{
 "cells": [
  {
   "cell_type": "code",
   "execution_count": 1,
   "id": "6735e14a-7c14-4fab-b886-f0157859a5db",
   "metadata": {
    "execution": {
     "iopub.execute_input": "2022-09-26T14:18:05.284524Z",
     "iopub.status.busy": "2022-09-26T14:18:05.284249Z",
     "iopub.status.idle": "2022-09-26T14:18:05.289275Z",
     "shell.execute_reply": "2022-09-26T14:18:05.288156Z",
     "shell.execute_reply.started": "2022-09-26T14:18:05.284461Z"
    },
    "tags": []
   },
   "outputs": [],
   "source": [
    "# From  https://github.com/jqwhite/uArm-Python-SDK/blob/2.0/setup.py"
   ]
  },
  {
   "cell_type": "code",
   "execution_count": 64,
   "id": "1b2b4f33-4121-49d5-9887-142b3d199ca3",
   "metadata": {
    "execution": {
     "iopub.execute_input": "2022-10-19T11:09:41.728204Z",
     "iopub.status.busy": "2022-10-19T11:09:41.727971Z",
     "iopub.status.idle": "2022-10-19T11:09:41.732541Z",
     "shell.execute_reply": "2022-10-19T11:09:41.731674Z",
     "shell.execute_reply.started": "2022-10-19T11:09:41.728180Z"
    },
    "tags": []
   },
   "outputs": [],
   "source": [
    "import time\n",
    "import sys\n",
    "#the uArm application is inside of the parent directory, this assumes that you are runing this notebook in the `uarm/` directory\n",
    "sys.path.append('.')\n",
    "\n",
    "from uarm.wrapper import SwiftAPI\n",
    "from uarm.utils.log import logger\n",
    "logger.setLevel(logger.VERBOSE)\n",
    "# logger.setLevel(1)"
   ]
  },
  {
   "cell_type": "code",
   "execution_count": 65,
   "id": "76d63e9c-adbb-4947-8273-3d7af12427a3",
   "metadata": {
    "execution": {
     "iopub.execute_input": "2022-10-19T11:09:42.241454Z",
     "iopub.status.busy": "2022-10-19T11:09:42.240926Z",
     "iopub.status.idle": "2022-10-19T11:09:42.375210Z",
     "shell.execute_reply": "2022-10-19T11:09:42.374234Z",
     "shell.execute_reply.started": "2022-10-19T11:09:42.241425Z"
    },
    "jupyter": {
     "source_hidden": true
    },
    "tags": []
   },
   "outputs": [
    {
     "name": "stdout",
     "output_type": "stream",
     "text": [
      "\u001b[34m\u001b[43m/dev/tty.usbmodem1432201\u001b[m\u001b[m       \u001b[34m\u001b[43m/dev/tty.usbmodem204NTFA4Y4752\u001b[m\u001b[m\n"
     ]
    }
   ],
   "source": [
    "! ls /dev/tty.usbmodem*"
   ]
  },
  {
   "cell_type": "code",
   "execution_count": 66,
   "id": "fb525520-6017-49f6-98b6-5b1b63456928",
   "metadata": {
    "execution": {
     "iopub.execute_input": "2022-10-19T11:09:42.888883Z",
     "iopub.status.busy": "2022-10-19T11:09:42.888578Z",
     "iopub.status.idle": "2022-10-19T11:09:42.900633Z",
     "shell.execute_reply": "2022-10-19T11:09:42.899803Z",
     "shell.execute_reply.started": "2022-10-19T11:09:42.888854Z"
    },
    "tags": []
   },
   "outputs": [
    {
     "name": "stdout",
     "output_type": "stream",
     "text": [
      "[INFO] 2022-10-19 13:09:42 [/Users/jwhite/Library/Mobile Documents/com~apple~CloudDocs/Science/GrillLab/Projects/Robots/uarm/uarm/comm/__init__.py:98]: connect /dev/tty.usbmodem1432201 success\n",
      "[DEBUG] 2022-10-19 13:09:42 [/Users/jwhite/Library/Mobile Documents/com~apple~CloudDocs/Science/GrillLab/Projects/Robots/uarm/uarm/comm/threaded.py:64]: serial read thread start ...\n",
      "[DEBUG] 2022-10-19 13:09:42 [/Users/jwhite/Library/Mobile Documents/com~apple~CloudDocs/Science/GrillLab/Projects/Robots/uarm/uarm/swift/__init__.py:176]: serial result handle thread start ...\n",
      "[DEBUG] 2022-10-19 13:09:42 [/Users/jwhite/Library/Mobile Documents/com~apple~CloudDocs/Science/GrillLab/Projects/Robots/uarm/uarm/swift/__init__.py:139]: asyncio thread start ...\n"
     ]
    }
   ],
   "source": [
    "# Note if you are running this you will need to make sure that you run with \"Administrator Permissions\"\n",
    "# swift = SwiftAPI(port=\"COM4\", callback_thread_pool_size=1) #tty.usbmodem1432401\n",
    "\n",
    "swift = SwiftAPI(port=\"/dev/tty.usbmodem1432201\", callback_thread_pool_size=1)"
   ]
  },
  {
   "cell_type": "code",
   "execution_count": 67,
   "id": "0b643b27-90a0-42b4-bc53-a422900bf614",
   "metadata": {
    "execution": {
     "iopub.execute_input": "2022-10-19T11:09:43.873889Z",
     "iopub.status.busy": "2022-10-19T11:09:43.873540Z",
     "iopub.status.idle": "2022-10-19T11:10:03.893577Z",
     "shell.execute_reply": "2022-10-19T11:10:03.892728Z",
     "shell.execute_reply.started": "2022-10-19T11:09:43.873852Z"
    },
    "tags": []
   },
   "outputs": [
    {
     "name": "stdout",
     "output_type": "stream",
     "text": [
      "[VERBOSE] 2022-10-19 13:09:43 [/Users/jwhite/Library/Mobile Documents/com~apple~CloudDocs/Science/GrillLab/Projects/Robots/uarm/uarm/comm/threaded.py:102]: send: /dev/tty.usbmodem1432201, b'#1 P2201\\n'\n",
      "[VERBOSE] 2022-10-19 13:09:43 [/Users/jwhite/Library/Mobile Documents/com~apple~CloudDocs/Science/GrillLab/Projects/Robots/uarm/uarm/comm/threaded.py:102]: send: /dev/tty.usbmodem1432201, b'#2 P2202\\n'\n",
      "[INFO] 2022-10-19 13:09:43 [/Users/jwhite/Library/Mobile Documents/com~apple~CloudDocs/Science/GrillLab/Projects/Robots/uarm/uarm/comm/__init__.py:50]: connection is lost\n",
      "[DEBUG] 2022-10-19 13:09:43 [/Users/jwhite/Library/Mobile Documents/com~apple~CloudDocs/Science/GrillLab/Projects/Robots/uarm/uarm/comm/threaded.py:96]: serial read thread exit ...\n",
      "[VERBOSE] 2022-10-19 13:09:43 [/Users/jwhite/Library/Mobile Documents/com~apple~CloudDocs/Science/GrillLab/Projects/Robots/uarm/uarm/comm/__init__.py:38]: recv: known com: ðð# P2201\"\n",
      "[VERBOSE] 2022-10-19 13:09:43 [/Users/jwhite/Library/Mobile Documents/com~apple~CloudDocs/Science/GrillLab/Projects/Robots/uarm/uarm/comm/__init__.py:38]: recv: echnadð1$2 ok V3..1\n",
      "[DEBUG] 2022-10-19 13:09:43 [/Users/jwhite/Library/Mobile Documents/com~apple~CloudDocs/Science/GrillLab/Projects/Robots/uarm/uarm/swift/__init__.py:142]: asyncio thread exit ...\n",
      "[DEBUG] 2022-10-19 13:09:43 [/Users/jwhite/Library/Mobile Documents/com~apple~CloudDocs/Science/GrillLab/Projects/Robots/uarm/uarm/swift/__init__.py:200]: serial result handle thread exit ...\n",
      "[VERBOSE] 2022-10-19 13:09:53 [/Users/jwhite/Library/Mobile Documents/com~apple~CloudDocs/Science/GrillLab/Projects/Robots/uarm/uarm/comm/threaded.py:102]: send: /dev/tty.usbmodem1432201, b'#3 P2203\\n'\n",
      "[VERBOSE] 2022-10-19 13:09:53 [/Users/jwhite/Library/Mobile Documents/com~apple~CloudDocs/Science/GrillLab/Projects/Robots/uarm/uarm/comm/threaded.py:102]: send: /dev/tty.usbmodem1432201, b'#4 P2204\\n'\n",
      "[VERBOSE] 2022-10-19 13:09:53 [/Users/jwhite/Library/Mobile Documents/com~apple~CloudDocs/Science/GrillLab/Projects/Robots/uarm/uarm/comm/__init__.py:38]: recv:  o\n",
      "20ERBOSE] 2022-10-19 13:09:53 [/Users/jwhite/Library/Mobile Documents/com~apple~CloudDocs/Science/GrillLab/Projects/Robots/uarm/uarm/comm/__init__.py:38]: recv: $k V3.2.0\n",
      "[INFO] 2022-10-19 13:09:53 [/Users/jwhite/Library/Mobile Documents/com~apple~CloudDocs/Science/GrillLab/Projects/Robots/uarm/uarm/comm/__init__.py:50]: connection is lost\n",
      "[DEBUG] 2022-10-19 13:09:53 [/Users/jwhite/Library/Mobile Documents/com~apple~CloudDocs/Science/GrillLab/Projects/Robots/uarm/uarm/comm/threaded.py:96]: serial read thread exit ...\n",
      "[DEBUG] 2022-10-19 13:09:53 [/Users/jwhite/Library/Mobile Documents/com~apple~CloudDocs/Science/GrillLab/Projects/Robots/uarm/uarm/swift/__init__.py:142]: asyncio thread exit ...\n",
      "[DEBUG] 2022-10-19 13:09:53 [/Users/jwhite/Library/Mobile Documents/com~apple~CloudDocs/Science/GrillLab/Projects/Robots/uarm/uarm/swift/__init__.py:200]: serial result handle thread exit ...\n",
      "[VERBOSE] 2022-10-19 13:10:03 [/Users/jwhite/Library/Mobile Documents/com~apple~CloudDocs/Science/GrillLab/Projects/Robots/uarm/uarm/comm/threaded.py:102]: send: /dev/tty.usbmodem1432201, b'#5 P2205\\n'\n",
      "[VERBOSE] 2022-10-19 13:10:03 [/Users/jwhite/Library/Mobile Documents/com~apple~CloudDocs/Science/GrillLab/Projects/Robots/uarm/uarm/comm/__init__.py:38]: recv: $5 ok V414B53\n",
      "{'device_type': None, 'hardware_version': None, 'firmware_version': None, 'api_version': None, 'device_unique': '414B53'}\n"
     ]
    }
   ],
   "source": [
    "device_info = swift.get_device_info()\n",
    "print(device_info)"
   ]
  },
  {
   "cell_type": "code",
   "execution_count": 68,
   "id": "9ed469cb-a97f-470a-bd22-e9bbbfba1c2f",
   "metadata": {
    "execution": {
     "iopub.execute_input": "2022-10-19T11:10:03.895574Z",
     "iopub.status.busy": "2022-10-19T11:10:03.895341Z",
     "iopub.status.idle": "2022-10-19T11:10:07.469143Z",
     "shell.execute_reply": "2022-10-19T11:10:07.468552Z",
     "shell.execute_reply.started": "2022-10-19T11:10:03.895552Z"
    },
    "tags": []
   },
   "outputs": [
    {
     "name": "stdout",
     "output_type": "stream",
     "text": [
      "[VERBOSE] 2022-10-19 13:10:03 [/Users/jwhite/Library/Mobile Documents/com~apple~CloudDocs/Science/GrillLab/Projects/Robots/uarm/uarm/comm/threaded.py:102]: send: /dev/tty.usbmodem1432201, b'#6 M17\\n'\n",
      "[VERBOSE] 2022-10-19 13:10:04 [/Users/jwhite/Library/Mobile Documents/com~apple~CloudDocs/Science/GrillLab/Projects/Robots/uarm/uarm/comm/__init__.py:38]: recv: $ ok\n",
      "[VERBOSE] 2022-10-19 13:10:05 [/Users/jwhite/Library/Mobile Documents/com~apple~CloudDocs/Science/GrillLab/Projects/Robots/uarm/uarm/comm/threaded.py:102]: send: /dev/tty.usbmodem1432201, b'#7 G0 X200.0 Y0.0 Z150.0 F5000\\n'\n",
      "[INFO] 2022-10-19 13:10:07 [/Users/jwhite/Library/Mobile Documents/com~apple~CloudDocs/Science/GrillLab/Projects/Robots/uarm/uarm/comm/__init__.py:50]: connection is lost\n",
      "[DEBUG] 2022-10-19 13:10:07 [/Users/jwhite/Library/Mobile Documents/com~apple~CloudDocs/Science/GrillLab/Projects/Robots/uarm/uarm/comm/threaded.py:96]: serial read thread exit ...\n",
      "[DEBUG] 2022-10-19 13:10:07 [/Users/jwhite/Library/Mobile Documents/com~apple~CloudDocs/Science/GrillLab/Projects/Robots/uarm/uarm/swift/__init__.py:142]: asyncio thread exit ...\n",
      "[VERBOSE] 2022-10-19 13:10:07 [/Users/jwhite/Library/Mobile Documents/com~apple~CloudDocs/Science/GrillLab/Projects/Robots/uarm/uarm/comm/__init__.py:38]: recv: $7 ok\n",
      "[VERBOSE] 2022-10-19 13:10:07 [/Users/jwhite/Library/Mobile Documents/com~apple~CloudDocs/Science/GrillLab/Projects/Robots/uarm/uarm/comm/threaded.py:102]: send: /dev/tty.usbmodem1432201, b'#8 M2231 V0\\n'\n",
      "[DEBUG] 2022-10-19 13:10:07 [/Users/jwhite/Library/Mobile Documents/com~apple~CloudDocs/Science/GrillLab/Projects/Robots/uarm/uarm/swift/__init__.py:200]: serial result handle thread exit ...\n",
      "[VERBOSE] 2022-10-19 13:10:07 [/Users/jwhite/Library/Mobile Documents/com~apple~CloudDocs/Science/GrillLab/Projects/Robots/uarm/uarm/comm/__init__.py:38]: recv: $8 ok\n",
      "[VERBOSE] 2022-10-19 13:10:07 [/Users/jwhite/Library/Mobile Documents/com~apple~CloudDocs/Science/GrillLab/Projects/Robots/uarm/uarm/comm/threaded.py:102]: send: /dev/tty.usbmodem1432201, b'#9 M2232 V0\\n'\n",
      "[VERBOSE] 2022-10-19 13:10:07 [/Users/jwhite/Library/Mobile Documents/com~apple~CloudDocs/Science/GrillLab/Projects/Robots/uarm/uarm/comm/__init__.py:38]: recv: $9 ok\n",
      "[VERBOSE] 2022-10-19 13:10:07 [/Users/jwhite/Library/Mobile Documents/com~apple~CloudDocs/Science/GrillLab/Projects/Robots/uarm/uarm/comm/threaded.py:102]: send: /dev/tty.usbmodem1432201, b'#10 G2202 N3 V90 F2000\\n'\n",
      "[VERBOSE] 2022-10-19 13:10:07 [/Users/jwhite/Library/Mobile Documents/com~apple~CloudDocs/Science/GrillLab/Projects/Robots/uarm/uarm/comm/__init__.py:38]: recv: $10 ok\n"
     ]
    }
   ],
   "source": [
    "swift.reset()"
   ]
  },
  {
   "cell_type": "code",
   "execution_count": 70,
   "id": "879e526d-cc82-452b-82fc-ccb6a39d6874",
   "metadata": {
    "execution": {
     "iopub.execute_input": "2022-10-19T11:10:30.355263Z",
     "iopub.status.busy": "2022-10-19T11:10:30.354763Z",
     "iopub.status.idle": "2022-10-19T11:10:30.371847Z",
     "shell.execute_reply": "2022-10-19T11:10:30.370989Z",
     "shell.execute_reply.started": "2022-10-19T11:10:30.355237Z"
    },
    "tags": []
   },
   "outputs": [
    {
     "name": "stdout",
     "output_type": "stream",
     "text": [
      "[VERBOSE] 2022-10-19 13:10:30 [/Users/jwhite/Library/Mobile Documents/com~apple~CloudDocs/Science/GrillLab/Projects/Robots/uarm/uarm/comm/threaded.py:102]: send: /dev/tty.usbmodem1432201, b'#12 P2220\\n'\n",
      "[VERBOSE] 2022-10-19 13:10:30 [/Users/jwhite/Library/Mobile Documents/com~apple~CloudDocs/Science/GrillLab/Projects/Robots/uarm/uarm/comm/__init__.py:38]: recv: $12 ok X200.00 Y0.00 Z150.00\n"
     ]
    },
    {
     "data": {
      "text/plain": [
       "[200.0, 0.0, 150.0]"
      ]
     },
     "execution_count": 70,
     "metadata": {},
     "output_type": "execute_result"
    }
   ],
   "source": [
    "swift.get_position()"
   ]
  },
  {
   "cell_type": "markdown",
   "id": "1012a1ed-c536-489c-a68b-2b40d18edb23",
   "metadata": {},
   "source": [
    "## Position"
   ]
  },
  {
   "cell_type": "markdown",
   "id": "1c073c6f-faa1-4d4a-b9d0-ab3fae5d58c5",
   "metadata": {},
   "source": [
    "The angle here is in `[x,y,z]`\n",
    "\n",
    "If you were the arm, with the cables connected to your back and looking forward.\n",
    "<!-- * `x` = left and right \n",
    "* `y` = the arm stretched outward or contracted inward\n",
    "* `z` = up and down.  -->\n",
    "* `x` = the arm stretched outward or contracted inward\n",
    "* `y` = left and right \n",
    "* `z` = up and down. "
   ]
  },
  {
   "cell_type": "code",
   "execution_count": 72,
   "id": "1810d2b0-f384-4eee-b4fb-d389fd981983",
   "metadata": {
    "execution": {
     "iopub.execute_input": "2022-10-19T11:10:49.449623Z",
     "iopub.status.busy": "2022-10-19T11:10:49.449366Z",
     "iopub.status.idle": "2022-10-19T11:10:49.455342Z",
     "shell.execute_reply": "2022-10-19T11:10:49.454559Z",
     "shell.execute_reply.started": "2022-10-19T11:10:49.449596Z"
    },
    "tags": []
   },
   "outputs": [
    {
     "name": "stdout",
     "output_type": "stream",
     "text": [
      "[VERBOSE] 2022-10-19 13:10:49 [/Users/jwhite/Library/Mobile Documents/com~apple~CloudDocs/Science/GrillLab/Projects/Robots/uarm/uarm/comm/threaded.py:102]: send: /dev/tty.usbmodem1432201, b'#14 G0 X200.0 Y0.0 Z150.0 F5000\\n'\n",
      "[VERBOSE] 2022-10-19 13:10:50 [/Users/jwhite/Library/Mobile Documents/com~apple~CloudDocs/Science/GrillLab/Projects/Robots/uarm/uarm/comm/__init__.py:38]: recv: $14 ok\n"
     ]
    }
   ],
   "source": [
    "swift.set_position(x=200, y=0, z=150)"
   ]
  },
  {
   "cell_type": "code",
   "execution_count": 73,
   "id": "bb92849d-d714-4b0d-8461-7de65d91e9fc",
   "metadata": {
    "execution": {
     "iopub.execute_input": "2022-10-19T11:10:54.243555Z",
     "iopub.status.busy": "2022-10-19T11:10:54.243361Z",
     "iopub.status.idle": "2022-10-19T11:10:54.259486Z",
     "shell.execute_reply": "2022-10-19T11:10:54.258627Z",
     "shell.execute_reply.started": "2022-10-19T11:10:54.243535Z"
    },
    "tags": []
   },
   "outputs": [
    {
     "name": "stdout",
     "output_type": "stream",
     "text": [
      "[VERBOSE] 2022-10-19 13:10:54 [/Users/jwhite/Library/Mobile Documents/com~apple~CloudDocs/Science/GrillLab/Projects/Robots/uarm/uarm/comm/threaded.py:102]: send: /dev/tty.usbmodem1432201, b'#15 P2220\\n'\n",
      "[VERBOSE] 2022-10-19 13:10:54 [/Users/jwhite/Library/Mobile Documents/com~apple~CloudDocs/Science/GrillLab/Projects/Robots/uarm/uarm/comm/__init__.py:38]: recv: $15 ok X200.00 Y0.00 Z150.00\n"
     ]
    },
    {
     "data": {
      "text/plain": [
       "[200.0, 0.0, 150.0]"
      ]
     },
     "execution_count": 73,
     "metadata": {},
     "output_type": "execute_result"
    }
   ],
   "source": [
    "swift.get_position()"
   ]
  },
  {
   "cell_type": "code",
   "execution_count": null,
   "id": "ca0aa21e-e491-42be-92a0-bba157547617",
   "metadata": {
    "execution": {
     "iopub.execute_input": "2022-10-19T11:10:57.768601Z",
     "iopub.status.busy": "2022-10-19T11:10:57.768370Z",
     "iopub.status.idle": "2022-10-19T11:10:57.777806Z",
     "shell.execute_reply": "2022-10-19T11:10:57.776868Z",
     "shell.execute_reply.started": "2022-10-19T11:10:57.768577Z"
    },
    "tags": []
   },
   "outputs": [
    {
     "name": "stdout",
     "output_type": "stream",
     "text": [
      "[VERBOSE] 2022-10-19 13:10:57 [/Users/jwhite/Library/Mobile Documents/com~apple~CloudDocs/Science/GrillLab/Projects/Robots/uarm/uarm/comm/threaded.py:102]: send: /dev/tty.usbmodem1432201, b'#16 G2202 N3 V90 F2000\\n'\n",
      "[VERBOSE] 2022-10-19 13:10:57 [/Users/jwhite/Library/Mobile Documents/com~apple~CloudDocs/Science/GrillLab/Projects/Robots/uarm/uarm/comm/__init__.py:38]: recv: $16 ok\n"
     ]
    }
   ],
   "source": [
    "swift.set_wrist(90)"
   ]
  },
  {
   "cell_type": "code",
   "execution_count": null,
   "id": "79746257-bb2a-4eda-b1f9-65a5e84be0b6",
   "metadata": {},
   "outputs": [],
   "source": []
  },
  {
   "cell_type": "code",
   "execution_count": null,
   "id": "26c1e5f1-8d72-4ac0-aeda-3d632d8268d6",
   "metadata": {
    "execution": {
     "iopub.execute_input": "2022-09-26T16:16:41.702528Z",
     "iopub.status.busy": "2022-09-26T16:16:41.702039Z",
     "iopub.status.idle": "2022-09-26T16:16:41.712009Z",
     "shell.execute_reply": "2022-09-26T16:16:41.711300Z",
     "shell.execute_reply.started": "2022-09-26T16:16:41.702503Z"
    },
    "tags": []
   },
   "outputs": [
    {
     "name": "stdout",
     "output_type": "stream",
     "text": [
      "[INFO] 2022-10-19 13:15:14 [/Users/jwhite/Library/Mobile Documents/com~apple~CloudDocs/Science/GrillLab/Projects/Robots/uarm/uarm/comm/__init__.py:50]: connection is lost\n",
      "[DEBUG] 2022-10-19 13:15:14 [/Users/jwhite/Library/Mobile Documents/com~apple~CloudDocs/Science/GrillLab/Projects/Robots/uarm/uarm/comm/threaded.py:96]: serial read thread exit ...\n",
      "[DEBUG] 2022-10-19 13:15:14 [/Users/jwhite/Library/Mobile Documents/com~apple~CloudDocs/Science/GrillLab/Projects/Robots/uarm/uarm/swift/__init__.py:200]: serial result handle thread exit ...\n"
     ]
    }
   ],
   "source": [
    "swift.disconnect()"
   ]
  },
  {
   "cell_type": "code",
   "execution_count": null,
   "id": "d5d8f84b-5dd8-422c-a762-151ec8e88d49",
   "metadata": {},
   "outputs": [],
   "source": []
  }
 ],
 "metadata": {
  "kernelspec": {
   "display_name": "Python 3 (ipykernel)",
   "language": "python",
   "name": "python3"
  },
  "language_info": {
   "codemirror_mode": {
    "name": "ipython",
    "version": 3
   },
   "file_extension": ".py",
   "mimetype": "text/x-python",
   "name": "python",
   "nbconvert_exporter": "python",
   "pygments_lexer": "ipython3",
   "version": "3.9.13"
  }
 },
 "nbformat": 4,
 "nbformat_minor": 5
}
